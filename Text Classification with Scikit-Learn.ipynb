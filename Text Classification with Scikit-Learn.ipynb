{
 "cells": [
  {
   "cell_type": "markdown",
   "metadata": {},
   "source": [
    "# Classification with Scikit-Learn #\n",
    "\n",
    "By John Semerdjian, assisted by Marti Hearst\n",
    "\n",
    "October 2015\n",
    "\n",
    "This is a tutorial on how to use Sciki-Learn in combination with Pandas to train and test a text classification algorithm."
   ]
  },
  {
   "cell_type": "code",
   "execution_count": 1,
   "metadata": {
    "collapsed": false
   },
   "outputs": [],
   "source": [
    "import pandas as pd\n",
    "import numpy as np\n",
    "import matplotlib.pyplot as plt\n",
    "%matplotlib inline\n",
    "import nltk"
   ]
  },
  {
   "cell_type": "markdown",
   "metadata": {},
   "source": [
    "### Reading a csv file\n",
    "\n",
    "Let's import data straight into a `DataFrame` from most file types, e.g. `.csv` or `.json`.\n",
    "\n",
    "Download the consumer complaints dataset as a `.csv` file here: https://data.consumerfinance.gov/dataset/Consumer-Complaints/s6ew-h6mp\n",
    "\n",
    "Description from [Consumer Financial Protection Bureau](http://www.consumerfinance.gov/complaintdatabase/):\n",
    "\n",
    "> Each week we send thousands of consumers' complaints about financial products and services to companies for response. Complaints are listed in the database after the company responds or after they’ve had the complaint for 15 calendar days, whichever comes first.\n",
    "\n",
    "> We publish the consumer’s description of what happened if the consumer opts to share it and after taking steps to remove personal information. See our Scrubbing Standard for more details\n",
    "\n",
    "> We don’t verify all the facts alleged in these complaints, but we take steps to confirm a commercial relationship. We may remove complaints if they don’t meet all of the publication criteria. Data is refreshed nightly."
   ]
  },
  {
   "cell_type": "code",
   "execution_count": 2,
   "metadata": {
    "collapsed": false
   },
   "outputs": [],
   "source": [
    "df = pd.read_csv(\"Consumer_Complaints.csv\", low_memory=False)"
   ]
  },
  {
   "cell_type": "markdown",
   "metadata": {},
   "source": [
    "### First look at your data"
   ]
  },
  {
   "cell_type": "code",
   "execution_count": 3,
   "metadata": {
    "collapsed": false
   },
   "outputs": [
    {
     "data": {
      "text/html": [
       "<div>\n",
       "<table border=\"1\" class=\"dataframe\">\n",
       "  <thead>\n",
       "    <tr style=\"text-align: right;\">\n",
       "      <th></th>\n",
       "      <th>Date received</th>\n",
       "      <th>Product</th>\n",
       "      <th>Sub-product</th>\n",
       "      <th>Issue</th>\n",
       "      <th>Sub-issue</th>\n",
       "      <th>Consumer complaint narrative</th>\n",
       "      <th>Company public response</th>\n",
       "      <th>Company</th>\n",
       "      <th>State</th>\n",
       "      <th>ZIP code</th>\n",
       "      <th>Submitted via</th>\n",
       "      <th>Date sent to company</th>\n",
       "      <th>Company response to consumer</th>\n",
       "      <th>Timely response?</th>\n",
       "      <th>Consumer disputed?</th>\n",
       "      <th>Complaint ID</th>\n",
       "    </tr>\n",
       "  </thead>\n",
       "  <tbody>\n",
       "    <tr>\n",
       "      <th>0</th>\n",
       "      <td>08/31/2015</td>\n",
       "      <td>Debt collection</td>\n",
       "      <td>Credit card</td>\n",
       "      <td>Taking/threatening an illegal action</td>\n",
       "      <td>Threatened to sue on too old debt</td>\n",
       "      <td>NaN</td>\n",
       "      <td>NaN</td>\n",
       "      <td>Transworld Systems Inc.</td>\n",
       "      <td>NY</td>\n",
       "      <td>104XX</td>\n",
       "      <td>Web</td>\n",
       "      <td>08/31/2015</td>\n",
       "      <td>In progress</td>\n",
       "      <td>Yes</td>\n",
       "      <td>NaN</td>\n",
       "      <td>1544816</td>\n",
       "    </tr>\n",
       "    <tr>\n",
       "      <th>1</th>\n",
       "      <td>08/31/2015</td>\n",
       "      <td>Credit reporting</td>\n",
       "      <td>NaN</td>\n",
       "      <td>Incorrect information on credit report</td>\n",
       "      <td>Account status</td>\n",
       "      <td>NaN</td>\n",
       "      <td>NaN</td>\n",
       "      <td>FNIS (Fidelity National Information Services, ...</td>\n",
       "      <td>CA</td>\n",
       "      <td>92054</td>\n",
       "      <td>Web</td>\n",
       "      <td>08/31/2015</td>\n",
       "      <td>In progress</td>\n",
       "      <td>Yes</td>\n",
       "      <td>NaN</td>\n",
       "      <td>1545382</td>\n",
       "    </tr>\n",
       "    <tr>\n",
       "      <th>2</th>\n",
       "      <td>08/31/2015</td>\n",
       "      <td>Debt collection</td>\n",
       "      <td>Other (phone, health club, etc.)</td>\n",
       "      <td>False statements or representation</td>\n",
       "      <td>Attempted to collect wrong amount</td>\n",
       "      <td>NaN</td>\n",
       "      <td>NaN</td>\n",
       "      <td>Hunter Warfield, Inc.</td>\n",
       "      <td>TX</td>\n",
       "      <td>750XX</td>\n",
       "      <td>Web</td>\n",
       "      <td>08/31/2015</td>\n",
       "      <td>In progress</td>\n",
       "      <td>Yes</td>\n",
       "      <td>NaN</td>\n",
       "      <td>1544066</td>\n",
       "    </tr>\n",
       "    <tr>\n",
       "      <th>3</th>\n",
       "      <td>08/31/2015</td>\n",
       "      <td>Debt collection</td>\n",
       "      <td>Medical</td>\n",
       "      <td>Communication tactics</td>\n",
       "      <td>Threatened to take legal action</td>\n",
       "      <td>NaN</td>\n",
       "      <td>NaN</td>\n",
       "      <td>Transworld Systems Inc.</td>\n",
       "      <td>FL</td>\n",
       "      <td>33596</td>\n",
       "      <td>Web</td>\n",
       "      <td>08/31/2015</td>\n",
       "      <td>In progress</td>\n",
       "      <td>Yes</td>\n",
       "      <td>NaN</td>\n",
       "      <td>1545215</td>\n",
       "    </tr>\n",
       "    <tr>\n",
       "      <th>4</th>\n",
       "      <td>08/31/2015</td>\n",
       "      <td>Debt collection</td>\n",
       "      <td>Other (phone, health club, etc.)</td>\n",
       "      <td>Improper contact or sharing of info</td>\n",
       "      <td>Talked to a third party about my debt</td>\n",
       "      <td>NaN</td>\n",
       "      <td>Company believes complaint represents an oppor...</td>\n",
       "      <td>Hunter Warfield, Inc.</td>\n",
       "      <td>TN</td>\n",
       "      <td>372XX</td>\n",
       "      <td>Web</td>\n",
       "      <td>08/31/2015</td>\n",
       "      <td>Closed with explanation</td>\n",
       "      <td>Yes</td>\n",
       "      <td>NaN</td>\n",
       "      <td>1545291</td>\n",
       "    </tr>\n",
       "  </tbody>\n",
       "</table>\n",
       "</div>"
      ],
      "text/plain": [
       "  Date received           Product                       Sub-product  \\\n",
       "0    08/31/2015   Debt collection                       Credit card   \n",
       "1    08/31/2015  Credit reporting                               NaN   \n",
       "2    08/31/2015   Debt collection  Other (phone, health club, etc.)   \n",
       "3    08/31/2015   Debt collection                           Medical   \n",
       "4    08/31/2015   Debt collection  Other (phone, health club, etc.)   \n",
       "\n",
       "                                    Issue  \\\n",
       "0    Taking/threatening an illegal action   \n",
       "1  Incorrect information on credit report   \n",
       "2      False statements or representation   \n",
       "3                   Communication tactics   \n",
       "4     Improper contact or sharing of info   \n",
       "\n",
       "                               Sub-issue Consumer complaint narrative  \\\n",
       "0      Threatened to sue on too old debt                          NaN   \n",
       "1                         Account status                          NaN   \n",
       "2      Attempted to collect wrong amount                          NaN   \n",
       "3        Threatened to take legal action                          NaN   \n",
       "4  Talked to a third party about my debt                          NaN   \n",
       "\n",
       "                             Company public response  \\\n",
       "0                                                NaN   \n",
       "1                                                NaN   \n",
       "2                                                NaN   \n",
       "3                                                NaN   \n",
       "4  Company believes complaint represents an oppor...   \n",
       "\n",
       "                                             Company State ZIP code  \\\n",
       "0                            Transworld Systems Inc.    NY    104XX   \n",
       "1  FNIS (Fidelity National Information Services, ...    CA    92054   \n",
       "2                              Hunter Warfield, Inc.    TX    750XX   \n",
       "3                            Transworld Systems Inc.    FL    33596   \n",
       "4                              Hunter Warfield, Inc.    TN    372XX   \n",
       "\n",
       "  Submitted via Date sent to company Company response to consumer  \\\n",
       "0           Web           08/31/2015                  In progress   \n",
       "1           Web           08/31/2015                  In progress   \n",
       "2           Web           08/31/2015                  In progress   \n",
       "3           Web           08/31/2015                  In progress   \n",
       "4           Web           08/31/2015      Closed with explanation   \n",
       "\n",
       "  Timely response? Consumer disputed?  Complaint ID  \n",
       "0              Yes                NaN       1544816  \n",
       "1              Yes                NaN       1545382  \n",
       "2              Yes                NaN       1544066  \n",
       "3              Yes                NaN       1545215  \n",
       "4              Yes                NaN       1545291  "
      ]
     },
     "execution_count": 3,
     "metadata": {},
     "output_type": "execute_result"
    }
   ],
   "source": [
    "df.head()"
   ]
  },
  {
   "cell_type": "markdown",
   "metadata": {},
   "source": [
    "### The data is really wide! Let's extract a few columns to review\n",
    "\n",
    "We can pass a list of column names to our filter our DataFrame"
   ]
  },
  {
   "cell_type": "code",
   "execution_count": 4,
   "metadata": {
    "collapsed": true
   },
   "outputs": [],
   "source": [
    "cols = [\"Product\", \"Sub-product\", \"Issue\", \"Sub-issue\", \n",
    "        \"Consumer complaint narrative\", \"Company public response\", \n",
    "        \"Company\", \"Company response to consumer\"]"
   ]
  },
  {
   "cell_type": "markdown",
   "metadata": {},
   "source": [
    "Put the list of column names in brackets after the name of the DataFrame to subset. "
   ]
  },
  {
   "cell_type": "code",
   "execution_count": 5,
   "metadata": {
    "collapsed": false
   },
   "outputs": [
    {
     "data": {
      "text/html": [
       "<div>\n",
       "<table border=\"1\" class=\"dataframe\">\n",
       "  <thead>\n",
       "    <tr style=\"text-align: right;\">\n",
       "      <th></th>\n",
       "      <th>Product</th>\n",
       "      <th>Sub-product</th>\n",
       "      <th>Issue</th>\n",
       "      <th>Sub-issue</th>\n",
       "      <th>Consumer complaint narrative</th>\n",
       "      <th>Company public response</th>\n",
       "      <th>Company</th>\n",
       "      <th>Company response to consumer</th>\n",
       "    </tr>\n",
       "  </thead>\n",
       "  <tbody>\n",
       "    <tr>\n",
       "      <th>0</th>\n",
       "      <td>Debt collection</td>\n",
       "      <td>Credit card</td>\n",
       "      <td>Taking/threatening an illegal action</td>\n",
       "      <td>Threatened to sue on too old debt</td>\n",
       "      <td>NaN</td>\n",
       "      <td>NaN</td>\n",
       "      <td>Transworld Systems Inc.</td>\n",
       "      <td>In progress</td>\n",
       "    </tr>\n",
       "    <tr>\n",
       "      <th>1</th>\n",
       "      <td>Credit reporting</td>\n",
       "      <td>NaN</td>\n",
       "      <td>Incorrect information on credit report</td>\n",
       "      <td>Account status</td>\n",
       "      <td>NaN</td>\n",
       "      <td>NaN</td>\n",
       "      <td>FNIS (Fidelity National Information Services, ...</td>\n",
       "      <td>In progress</td>\n",
       "    </tr>\n",
       "    <tr>\n",
       "      <th>2</th>\n",
       "      <td>Debt collection</td>\n",
       "      <td>Other (phone, health club, etc.)</td>\n",
       "      <td>False statements or representation</td>\n",
       "      <td>Attempted to collect wrong amount</td>\n",
       "      <td>NaN</td>\n",
       "      <td>NaN</td>\n",
       "      <td>Hunter Warfield, Inc.</td>\n",
       "      <td>In progress</td>\n",
       "    </tr>\n",
       "    <tr>\n",
       "      <th>3</th>\n",
       "      <td>Debt collection</td>\n",
       "      <td>Medical</td>\n",
       "      <td>Communication tactics</td>\n",
       "      <td>Threatened to take legal action</td>\n",
       "      <td>NaN</td>\n",
       "      <td>NaN</td>\n",
       "      <td>Transworld Systems Inc.</td>\n",
       "      <td>In progress</td>\n",
       "    </tr>\n",
       "    <tr>\n",
       "      <th>4</th>\n",
       "      <td>Debt collection</td>\n",
       "      <td>Other (phone, health club, etc.)</td>\n",
       "      <td>Improper contact or sharing of info</td>\n",
       "      <td>Talked to a third party about my debt</td>\n",
       "      <td>NaN</td>\n",
       "      <td>Company believes complaint represents an oppor...</td>\n",
       "      <td>Hunter Warfield, Inc.</td>\n",
       "      <td>Closed with explanation</td>\n",
       "    </tr>\n",
       "  </tbody>\n",
       "</table>\n",
       "</div>"
      ],
      "text/plain": [
       "            Product                       Sub-product  \\\n",
       "0   Debt collection                       Credit card   \n",
       "1  Credit reporting                               NaN   \n",
       "2   Debt collection  Other (phone, health club, etc.)   \n",
       "3   Debt collection                           Medical   \n",
       "4   Debt collection  Other (phone, health club, etc.)   \n",
       "\n",
       "                                    Issue  \\\n",
       "0    Taking/threatening an illegal action   \n",
       "1  Incorrect information on credit report   \n",
       "2      False statements or representation   \n",
       "3                   Communication tactics   \n",
       "4     Improper contact or sharing of info   \n",
       "\n",
       "                               Sub-issue Consumer complaint narrative  \\\n",
       "0      Threatened to sue on too old debt                          NaN   \n",
       "1                         Account status                          NaN   \n",
       "2      Attempted to collect wrong amount                          NaN   \n",
       "3        Threatened to take legal action                          NaN   \n",
       "4  Talked to a third party about my debt                          NaN   \n",
       "\n",
       "                             Company public response  \\\n",
       "0                                                NaN   \n",
       "1                                                NaN   \n",
       "2                                                NaN   \n",
       "3                                                NaN   \n",
       "4  Company believes complaint represents an oppor...   \n",
       "\n",
       "                                             Company  \\\n",
       "0                            Transworld Systems Inc.   \n",
       "1  FNIS (Fidelity National Information Services, ...   \n",
       "2                              Hunter Warfield, Inc.   \n",
       "3                            Transworld Systems Inc.   \n",
       "4                              Hunter Warfield, Inc.   \n",
       "\n",
       "  Company response to consumer  \n",
       "0                  In progress  \n",
       "1                  In progress  \n",
       "2                  In progress  \n",
       "3                  In progress  \n",
       "4      Closed with explanation  "
      ]
     },
     "execution_count": 5,
     "metadata": {},
     "output_type": "execute_result"
    }
   ],
   "source": [
    "df[cols].head()"
   ]
  },
  {
   "cell_type": "markdown",
   "metadata": {},
   "source": [
    "### Return all rows that do not have `NaN` in the `Consumer complaint narrative` column\n",
    "\n",
    "The `df[\"Consumer complaint narrative\"].notnull()` argument returns a boolean of values, `True` if the data are not null (`NaN`) and `False` for the rest. We place the array of boolean values within the DataFrame `df` to subset it further.  Farther down we will see how the `reset_index()` function gives us a clean index so we don't have to use the same indices as the larger DataFrame for subsetting."
   ]
  },
  {
   "cell_type": "code",
   "execution_count": 6,
   "metadata": {
    "collapsed": false
   },
   "outputs": [
    {
     "data": {
      "text/plain": [
       "0    False\n",
       "1    False\n",
       "2    False\n",
       "3    False\n",
       "4    False\n",
       "5    False\n",
       "6    False\n",
       "7    False\n",
       "8    False\n",
       "9    False\n",
       "Name: Consumer complaint narrative, dtype: bool"
      ]
     },
     "execution_count": 6,
     "metadata": {},
     "output_type": "execute_result"
    }
   ],
   "source": [
    "filtered_data = df[\"Consumer complaint narrative\"].notnull()\n",
    "filtered_data[:10]"
   ]
  },
  {
   "cell_type": "code",
   "execution_count": 7,
   "metadata": {
    "collapsed": false
   },
   "outputs": [],
   "source": [
    "df_narrative = df[filtered_data]"
   ]
  },
  {
   "cell_type": "markdown",
   "metadata": {},
   "source": [
    "Notice where the index starts on the left-most column -- it is no longer in descending order from 0 to the length of the number of rows."
   ]
  },
  {
   "cell_type": "code",
   "execution_count": 8,
   "metadata": {
    "collapsed": false
   },
   "outputs": [
    {
     "data": {
      "text/html": [
       "<div>\n",
       "<table border=\"1\" class=\"dataframe\">\n",
       "  <thead>\n",
       "    <tr style=\"text-align: right;\">\n",
       "      <th></th>\n",
       "      <th>Product</th>\n",
       "      <th>Sub-product</th>\n",
       "      <th>Issue</th>\n",
       "      <th>Sub-issue</th>\n",
       "      <th>Consumer complaint narrative</th>\n",
       "      <th>Company public response</th>\n",
       "      <th>Company</th>\n",
       "      <th>Company response to consumer</th>\n",
       "    </tr>\n",
       "  </thead>\n",
       "  <tbody>\n",
       "    <tr>\n",
       "      <th>89</th>\n",
       "      <td>Credit reporting</td>\n",
       "      <td>NaN</td>\n",
       "      <td>Incorrect information on credit report</td>\n",
       "      <td>Information is not mine</td>\n",
       "      <td>My report seems to have several new hard inqui...</td>\n",
       "      <td>Company chooses not to provide a public response</td>\n",
       "      <td>TransUnion</td>\n",
       "      <td>Closed with non-monetary relief</td>\n",
       "    </tr>\n",
       "    <tr>\n",
       "      <th>95</th>\n",
       "      <td>Credit reporting</td>\n",
       "      <td>NaN</td>\n",
       "      <td>Unable to get credit report/credit score</td>\n",
       "      <td>Problem getting my free annual report</td>\n",
       "      <td>Online identity verification questions ask non...</td>\n",
       "      <td>Company chooses not to provide a public response</td>\n",
       "      <td>TransUnion</td>\n",
       "      <td>Closed with explanation</td>\n",
       "    </tr>\n",
       "    <tr>\n",
       "      <th>97</th>\n",
       "      <td>Credit reporting</td>\n",
       "      <td>NaN</td>\n",
       "      <td>Incorrect information on credit report</td>\n",
       "      <td>Account status</td>\n",
       "      <td>I had a car loan with XXXX XXXX that was paid ...</td>\n",
       "      <td>Company chooses not to provide a public response</td>\n",
       "      <td>TransUnion</td>\n",
       "      <td>Closed with explanation</td>\n",
       "    </tr>\n",
       "    <tr>\n",
       "      <th>101</th>\n",
       "      <td>Debt collection</td>\n",
       "      <td>Medical</td>\n",
       "      <td>Disclosure verification of debt</td>\n",
       "      <td>Not disclosed as an attempt to collect</td>\n",
       "      <td>I would like delete the debt in my credit repo...</td>\n",
       "      <td>Company believes it acted appropriately as aut...</td>\n",
       "      <td>Gold Key Credit, Inc.</td>\n",
       "      <td>Closed with explanation</td>\n",
       "    </tr>\n",
       "    <tr>\n",
       "      <th>107</th>\n",
       "      <td>Debt collection</td>\n",
       "      <td>Medical</td>\n",
       "      <td>Disclosure verification of debt</td>\n",
       "      <td>Not given enough info to verify debt</td>\n",
       "      <td>I mailed a letter to Medical Business Bureau i...</td>\n",
       "      <td>Company believes it acted appropriately as aut...</td>\n",
       "      <td>Medical Business Bureau</td>\n",
       "      <td>Closed with explanation</td>\n",
       "    </tr>\n",
       "  </tbody>\n",
       "</table>\n",
       "</div>"
      ],
      "text/plain": [
       "              Product Sub-product                                     Issue  \\\n",
       "89   Credit reporting         NaN    Incorrect information on credit report   \n",
       "95   Credit reporting         NaN  Unable to get credit report/credit score   \n",
       "97   Credit reporting         NaN    Incorrect information on credit report   \n",
       "101   Debt collection     Medical           Disclosure verification of debt   \n",
       "107   Debt collection     Medical           Disclosure verification of debt   \n",
       "\n",
       "                                  Sub-issue  \\\n",
       "89                  Information is not mine   \n",
       "95    Problem getting my free annual report   \n",
       "97                           Account status   \n",
       "101  Not disclosed as an attempt to collect   \n",
       "107    Not given enough info to verify debt   \n",
       "\n",
       "                          Consumer complaint narrative  \\\n",
       "89   My report seems to have several new hard inqui...   \n",
       "95   Online identity verification questions ask non...   \n",
       "97   I had a car loan with XXXX XXXX that was paid ...   \n",
       "101  I would like delete the debt in my credit repo...   \n",
       "107  I mailed a letter to Medical Business Bureau i...   \n",
       "\n",
       "                               Company public response  \\\n",
       "89    Company chooses not to provide a public response   \n",
       "95    Company chooses not to provide a public response   \n",
       "97    Company chooses not to provide a public response   \n",
       "101  Company believes it acted appropriately as aut...   \n",
       "107  Company believes it acted appropriately as aut...   \n",
       "\n",
       "                     Company     Company response to consumer  \n",
       "89                TransUnion  Closed with non-monetary relief  \n",
       "95                TransUnion          Closed with explanation  \n",
       "97                TransUnion          Closed with explanation  \n",
       "101    Gold Key Credit, Inc.          Closed with explanation  \n",
       "107  Medical Business Bureau          Closed with explanation  "
      ]
     },
     "execution_count": 8,
     "metadata": {},
     "output_type": "execute_result"
    }
   ],
   "source": [
    "df_narrative[cols].head()"
   ]
  },
  {
   "cell_type": "markdown",
   "metadata": {},
   "source": [
    "### Ploting with Pandas\n",
    "\n",
    "We can plot the distribution of categories in the `Products` column by chaining the `.value_counts()` and `.plot()` methods after selecting the `Products` column\n",
    "\n",
    "We can then count for each unique value in that column the number of observations within in the DataFrame, which we sort ascending."
   ]
  },
  {
   "cell_type": "code",
   "execution_count": 12,
   "metadata": {
    "collapsed": false
   },
   "outputs": [
    {
     "data": {
      "text/plain": [
       "Debt collection            5932\n",
       "Mortgage                   4713\n",
       "Credit reporting           4181\n",
       "Credit card                2246\n",
       "Bank account or service    1733\n",
       "Consumer loan              1042\n",
       "Student loan                728\n",
       "Payday loan                 250\n",
       "Money transfers             218\n",
       "Prepaid card                129\n",
       "Other financial service      34\n",
       "dtype: int64"
      ]
     },
     "execution_count": 12,
     "metadata": {},
     "output_type": "execute_result"
    }
   ],
   "source": [
    "sorted_product_counts = df_narrative.Product.value_counts(ascending=False)\n",
    "sorted_product_counts"
   ]
  },
  {
   "cell_type": "markdown",
   "metadata": {},
   "source": [
    "Next, we can plot a horizatontal (`barh`) bar graph to view the results, fix the fiture size to 8x6, and give it a title."
   ]
  },
  {
   "cell_type": "code",
   "execution_count": 17,
   "metadata": {
    "collapsed": false
   },
   "outputs": [
    {
     "data": {
      "image/png": "[encoded data removed]",
      "text/plain": [
       "<matplotlib.figure.Figure at 0x107916860>"
      ]
     },
     "metadata": {},
     "output_type": "display_data"
    }
   ],
   "source": [
    "sorted_product_counts.plot(kind='barh', figsize=(8,6), title=\"Product Categories\");"
   ]
  },
  {
   "cell_type": "markdown",
   "metadata": {},
   "source": [
    "### Create training, development, and test sets\n",
    "\n",
    "First, let's shuffle the rows in our `DataFrame`. There are many ways of splitting our data into training, development, and test sets. We'll use the `numpy` function `random.permutation` to generate a randomized array of row indices. \n",
    "\n",
    "(Alternatively, we can use the [`train_test_split`](http://scikit-learn.org/stable/modules/generated/sklearn.cross_validation.train_test_split.html) function from `sklearn.cross_validation` to easily create training and \"test\" sets.)"
   ]
  },
  {
   "cell_type": "code",
   "execution_count": 20,
   "metadata": {
    "collapsed": false
   },
   "outputs": [
    {
     "data": {
      "text/plain": [
       "Int64Index([89, 95, 97, 101, 107, 115, 121, 123, 130, 139], dtype='int64')"
      ]
     },
     "execution_count": 20,
     "metadata": {},
     "output_type": "execute_result"
    }
   ],
   "source": [
    "df_narrative.index[:10]"
   ]
  },
  {
   "cell_type": "code",
   "execution_count": 30,
   "metadata": {
    "collapsed": false
   },
   "outputs": [
    {
     "data": {
      "text/plain": [
       "array([72730,  6732, 66037, 29426, 44938, 50154, 55967, 67991, 66013, 60528])"
      ]
     },
     "execution_count": 30,
     "metadata": {},
     "output_type": "execute_result"
    }
   ],
   "source": [
    "random_index = np.random.permutation(df_narrative.index)\n",
    "random_index[:10]"
   ]
  },
  {
   "cell_type": "markdown",
   "metadata": {},
   "source": [
    "After we apply this randomized index, we'll need to reset the index of our new `DataFrame`. This allows us to us the normal indexing approaches.\n",
    "\n"
   ]
  },
  {
   "cell_type": "code",
   "execution_count": 31,
   "metadata": {
    "collapsed": false
   },
   "outputs": [
    {
     "data": {
      "text/html": [
       "<div>\n",
       "<table border=\"1\" class=\"dataframe\">\n",
       "  <thead>\n",
       "    <tr style=\"text-align: right;\">\n",
       "      <th></th>\n",
       "      <th>Product</th>\n",
       "      <th>Consumer complaint narrative</th>\n",
       "    </tr>\n",
       "  </thead>\n",
       "  <tbody>\n",
       "    <tr>\n",
       "      <th>72730</th>\n",
       "      <td>Credit reporting</td>\n",
       "      <td>I have attempted to get this inaccurate judgme...</td>\n",
       "    </tr>\n",
       "    <tr>\n",
       "      <th>6732</th>\n",
       "      <td>Bank account or service</td>\n",
       "      <td>My wife and I have had a Merrill Lynch XXXX  w...</td>\n",
       "    </tr>\n",
       "    <tr>\n",
       "      <th>66037</th>\n",
       "      <td>Debt collection</td>\n",
       "      <td>In XXXX I was a XXXX customer. I decided in XX...</td>\n",
       "    </tr>\n",
       "    <tr>\n",
       "      <th>29426</th>\n",
       "      <td>Credit reporting</td>\n",
       "      <td>Dear sir/madam, as I was going through my cred...</td>\n",
       "    </tr>\n",
       "    <tr>\n",
       "      <th>44938</th>\n",
       "      <td>Debt collection</td>\n",
       "      <td>Portfolio Recovery is aggressively attempting ...</td>\n",
       "    </tr>\n",
       "  </tbody>\n",
       "</table>\n",
       "</div>"
      ],
      "text/plain": [
       "                       Product  \\\n",
       "72730         Credit reporting   \n",
       "6732   Bank account or service   \n",
       "66037          Debt collection   \n",
       "29426         Credit reporting   \n",
       "44938          Debt collection   \n",
       "\n",
       "                            Consumer complaint narrative  \n",
       "72730  I have attempted to get this inaccurate judgme...  \n",
       "6732   My wife and I have had a Merrill Lynch XXXX  w...  \n",
       "66037  In XXXX I was a XXXX customer. I decided in XX...  \n",
       "29426  Dear sir/madam, as I was going through my cred...  \n",
       "44938  Portfolio Recovery is aggressively attempting ...  "
      ]
     },
     "execution_count": 31,
     "metadata": {},
     "output_type": "execute_result"
    }
   ],
   "source": [
    "df_narrative.ix[random_index, ['Product', 'Consumer complaint narrative']][:5]"
   ]
  },
  {
   "cell_type": "markdown",
   "metadata": {},
   "source": [
    "The `drop=True` option in `reset_index()` resets our rows without adding a new column indicated the old index while `inplace=True` performs the operation in place instead of returning a copy of the `DataFrame`"
   ]
  },
  {
   "cell_type": "code",
   "execution_count": 32,
   "metadata": {
    "collapsed": false
   },
   "outputs": [
    {
     "data": {
      "text/html": [
       "<div>\n",
       "<table border=\"1\" class=\"dataframe\">\n",
       "  <thead>\n",
       "    <tr style=\"text-align: right;\">\n",
       "      <th></th>\n",
       "      <th>Product</th>\n",
       "      <th>Consumer complaint narrative</th>\n",
       "    </tr>\n",
       "  </thead>\n",
       "  <tbody>\n",
       "    <tr>\n",
       "      <th>0</th>\n",
       "      <td>Credit reporting</td>\n",
       "      <td>I have attempted to get this inaccurate judgme...</td>\n",
       "    </tr>\n",
       "    <tr>\n",
       "      <th>1</th>\n",
       "      <td>Bank account or service</td>\n",
       "      <td>My wife and I have had a Merrill Lynch XXXX  w...</td>\n",
       "    </tr>\n",
       "    <tr>\n",
       "      <th>2</th>\n",
       "      <td>Debt collection</td>\n",
       "      <td>In XXXX I was a XXXX customer. I decided in XX...</td>\n",
       "    </tr>\n",
       "    <tr>\n",
       "      <th>3</th>\n",
       "      <td>Credit reporting</td>\n",
       "      <td>Dear sir/madam, as I was going through my cred...</td>\n",
       "    </tr>\n",
       "    <tr>\n",
       "      <th>4</th>\n",
       "      <td>Debt collection</td>\n",
       "      <td>Portfolio Recovery is aggressively attempting ...</td>\n",
       "    </tr>\n",
       "  </tbody>\n",
       "</table>\n",
       "</div>"
      ],
      "text/plain": [
       "                   Product                       Consumer complaint narrative\n",
       "0         Credit reporting  I have attempted to get this inaccurate judgme...\n",
       "1  Bank account or service  My wife and I have had a Merrill Lynch XXXX  w...\n",
       "2          Debt collection  In XXXX I was a XXXX customer. I decided in XX...\n",
       "3         Credit reporting  Dear sir/madam, as I was going through my cred...\n",
       "4          Debt collection  Portfolio Recovery is aggressively attempting ..."
      ]
     },
     "execution_count": 32,
     "metadata": {},
     "output_type": "execute_result"
    }
   ],
   "source": [
    "df_narrative_shuffled = df_narrative.ix[random_index, ['Product', 'Consumer complaint narrative']]\n",
    "df_narrative_shuffled.reset_index(drop=True, inplace=True)\n",
    "df_narrative_shuffled[:5]"
   ]
  },
  {
   "cell_type": "markdown",
   "metadata": {},
   "source": [
    "### Create 60/20/20 split for training/dev/test sets\n",
    "\n",
    "The `.shape` function returns a tuple of the number of rows and columns in a DataFrame"
   ]
  },
  {
   "cell_type": "code",
   "execution_count": 33,
   "metadata": {
    "collapsed": false
   },
   "outputs": [
    {
     "name": "stdout",
     "output_type": "stream",
     "text": [
      "Rows: 21206\n",
      "Columns: 2\n"
     ]
    }
   ],
   "source": [
    "rows, columns = df_narrative_shuffled.shape\n",
    "print(\"Rows:\", rows)\n",
    "print(\"Columns:\", columns)"
   ]
  },
  {
   "cell_type": "code",
   "execution_count": 34,
   "metadata": {
    "collapsed": false
   },
   "outputs": [],
   "source": [
    "train_size = round(rows*.6)\n",
    "dev_size   = round(rows*.2)"
   ]
  },
  {
   "cell_type": "markdown",
   "metadata": {},
   "source": [
    "First 60% of rows are the training set"
   ]
  },
  {
   "cell_type": "code",
   "execution_count": 35,
   "metadata": {
    "collapsed": false
   },
   "outputs": [
    {
     "data": {
      "text/plain": [
       "(12725, 2)"
      ]
     },
     "execution_count": 35,
     "metadata": {},
     "output_type": "execute_result"
    }
   ],
   "source": [
    "df_train = df_narrative_shuffled.loc[:train_size]\n",
    "df_train.shape"
   ]
  },
  {
   "cell_type": "code",
   "execution_count": 36,
   "metadata": {
    "collapsed": false
   },
   "outputs": [
    {
     "data": {
      "text/html": [
       "<div>\n",
       "<table border=\"1\" class=\"dataframe\">\n",
       "  <thead>\n",
       "    <tr style=\"text-align: right;\">\n",
       "      <th></th>\n",
       "      <th>Product</th>\n",
       "      <th>Consumer complaint narrative</th>\n",
       "    </tr>\n",
       "  </thead>\n",
       "  <tbody>\n",
       "    <tr>\n",
       "      <th>0</th>\n",
       "      <td>Credit reporting</td>\n",
       "      <td>I have attempted to get this inaccurate judgme...</td>\n",
       "    </tr>\n",
       "    <tr>\n",
       "      <th>1</th>\n",
       "      <td>Bank account or service</td>\n",
       "      <td>My wife and I have had a Merrill Lynch XXXX  w...</td>\n",
       "    </tr>\n",
       "    <tr>\n",
       "      <th>2</th>\n",
       "      <td>Debt collection</td>\n",
       "      <td>In XXXX I was a XXXX customer. I decided in XX...</td>\n",
       "    </tr>\n",
       "    <tr>\n",
       "      <th>3</th>\n",
       "      <td>Credit reporting</td>\n",
       "      <td>Dear sir/madam, as I was going through my cred...</td>\n",
       "    </tr>\n",
       "    <tr>\n",
       "      <th>4</th>\n",
       "      <td>Debt collection</td>\n",
       "      <td>Portfolio Recovery is aggressively attempting ...</td>\n",
       "    </tr>\n",
       "  </tbody>\n",
       "</table>\n",
       "</div>"
      ],
      "text/plain": [
       "                   Product                       Consumer complaint narrative\n",
       "0         Credit reporting  I have attempted to get this inaccurate judgme...\n",
       "1  Bank account or service  My wife and I have had a Merrill Lynch XXXX  w...\n",
       "2          Debt collection  In XXXX I was a XXXX customer. I decided in XX...\n",
       "3         Credit reporting  Dear sir/madam, as I was going through my cred...\n",
       "4          Debt collection  Portfolio Recovery is aggressively attempting ..."
      ]
     },
     "execution_count": 36,
     "metadata": {},
     "output_type": "execute_result"
    }
   ],
   "source": [
    "df_train.head()"
   ]
  },
  {
   "cell_type": "markdown",
   "metadata": {},
   "source": [
    "Followed by the next 20% of rows for the development set"
   ]
  },
  {
   "cell_type": "code",
   "execution_count": 37,
   "metadata": {
    "collapsed": false
   },
   "outputs": [
    {
     "data": {
      "text/plain": [
       "(4242, 2)"
      ]
     },
     "execution_count": 37,
     "metadata": {},
     "output_type": "execute_result"
    }
   ],
   "source": [
    "df_dev = df_narrative_shuffled.loc[train_size:dev_size+train_size].reset_index(drop=True)\n",
    "df_dev.shape"
   ]
  },
  {
   "cell_type": "markdown",
   "metadata": {},
   "source": [
    "And the last 20% are the test set"
   ]
  },
  {
   "cell_type": "code",
   "execution_count": 38,
   "metadata": {
    "collapsed": false
   },
   "outputs": [
    {
     "data": {
      "text/plain": [
       "(4241, 2)"
      ]
     },
     "execution_count": 38,
     "metadata": {},
     "output_type": "execute_result"
    }
   ],
   "source": [
    "df_test = df_narrative_shuffled.loc[dev_size+train_size:].reset_index(drop=True)\n",
    "df_test.shape"
   ]
  },
  {
   "cell_type": "markdown",
   "metadata": {},
   "source": [
    "# Scikit-Learn\n",
    "\n",
    "After we've wrangled/cleaned/separated our data with `Pandas`, we can start building machine learning algorithms using `Scikit-Learn`, which gives us a rich, unified API to quickly create classification models."
   ]
  },
  {
   "cell_type": "markdown",
   "metadata": {},
   "source": [
    "### Building features from scratch\n",
    "\n",
    "Let's say you have an intuition for the terms you think would be helpful for classification consumer complaints. We can quickly create a column vector for each feature you think of then use a simple classification algorithm for prediction.\n",
    "\n",
    "For now let's just build features to classify credit card-related compliants.\n",
    "\n",
    "I thought of the following features:\n",
    "\n",
    "* character: \"$\"\n",
    "* word: \"payment\"\n",
    "* bigram: \"credit card\"\n",
    "\n",
    "There are two feature processing functions below.  One handles features consisting of one word, and the other handles features consisting of two words.  They count how often the passed in term occurs in the document.  In the bigram case, a FreqDist is needed to keep track."
   ]
  },
  {
   "cell_type": "code",
   "execution_count": 39,
   "metadata": {
    "collapsed": true
   },
   "outputs": [],
   "source": [
    "def unigram_feature(x, unigram):\n",
    "    word_list = x.lower().split(\" \")\n",
    "    return word_list.count(unigram)\n",
    "\n",
    "def bigram_feature(x, bigram):\n",
    "    bigram_tuple = tuple(bigram.split())\n",
    "    word_list = x.lower().split(\" \")\n",
    "    bi = nltk.FreqDist(nltk.bigrams(word_list))\n",
    "    return bi[bigram_tuple]"
   ]
  },
  {
   "cell_type": "markdown",
   "metadata": {},
   "source": [
    "Train the dollar sign feature.  It doesn't occur in the first 10 documents."
   ]
  },
  {
   "cell_type": "code",
   "execution_count": 43,
   "metadata": {
    "collapsed": false
   },
   "outputs": [
    {
     "data": {
      "text/plain": [
       "0    0\n",
       "1    0\n",
       "2    0\n",
       "3    0\n",
       "4    0\n",
       "5    0\n",
       "6    0\n",
       "7    0\n",
       "8    0\n",
       "9    0\n",
       "Name: Consumer complaint narrative, dtype: int64"
      ]
     },
     "execution_count": 43,
     "metadata": {},
     "output_type": "execute_result"
    }
   ],
   "source": [
    "train_dollarsign_feature = df_train['Consumer complaint narrative'].apply(lambda x: unigram_feature(x, ('$')))\n",
    "train_dollarsign_feature[:10]"
   ]
  },
  {
   "cell_type": "markdown",
   "metadata": {},
   "source": [
    "Train the 'payment' feature.  It occurs once in document 5."
   ]
  },
  {
   "cell_type": "code",
   "execution_count": 44,
   "metadata": {
    "collapsed": false
   },
   "outputs": [
    {
     "data": {
      "text/plain": [
       "0    0\n",
       "1    0\n",
       "2    0\n",
       "3    0\n",
       "4    0\n",
       "5    1\n",
       "6    0\n",
       "7    0\n",
       "8    0\n",
       "9    0\n",
       "Name: Consumer complaint narrative, dtype: int64"
      ]
     },
     "execution_count": 44,
     "metadata": {},
     "output_type": "execute_result"
    }
   ],
   "source": [
    "train_payment_feature = df_train['Consumer complaint narrative'].apply(lambda x: unigram_feature(x, ('payment')))\n",
    "train_payment_feature[:10]"
   ]
  },
  {
   "cell_type": "code",
   "execution_count": 45,
   "metadata": {
    "collapsed": false
   },
   "outputs": [
    {
     "data": {
      "text/plain": [
       "0    0\n",
       "1    0\n",
       "2    0\n",
       "3    0\n",
       "4    0\n",
       "5    0\n",
       "6    0\n",
       "7    0\n",
       "8    0\n",
       "9    0\n",
       "Name: Consumer complaint narrative, dtype: int64"
      ]
     },
     "execution_count": 45,
     "metadata": {},
     "output_type": "execute_result"
    }
   ],
   "source": [
    "train_creditcard_feature = df_train['Consumer complaint narrative'].apply(lambda x: bigram_feature(x, ('credit card')))\n",
    "train_creditcard_feature[:10]"
   ]
  },
  {
   "cell_type": "markdown",
   "metadata": {},
   "source": [
    "Bring your feature vectors together into a `DataFrame`"
   ]
  },
  {
   "cell_type": "code",
   "execution_count": 46,
   "metadata": {
    "collapsed": true
   },
   "outputs": [],
   "source": [
    "df_train_features = pd.DataFrame({'dollar': train_dollarsign_feature, \n",
    "                                  'payment': train_payment_feature, \n",
    "                                  'creditcard': train_creditcard_feature})"
   ]
  },
  {
   "cell_type": "code",
   "execution_count": 47,
   "metadata": {
    "collapsed": false
   },
   "outputs": [
    {
     "data": {
      "text/html": [
       "<div>\n",
       "<table border=\"1\" class=\"dataframe\">\n",
       "  <thead>\n",
       "    <tr style=\"text-align: right;\">\n",
       "      <th></th>\n",
       "      <th>creditcard</th>\n",
       "      <th>dollar</th>\n",
       "      <th>payment</th>\n",
       "    </tr>\n",
       "  </thead>\n",
       "  <tbody>\n",
       "    <tr>\n",
       "      <th>0</th>\n",
       "      <td>0</td>\n",
       "      <td>0</td>\n",
       "      <td>0</td>\n",
       "    </tr>\n",
       "    <tr>\n",
       "      <th>1</th>\n",
       "      <td>0</td>\n",
       "      <td>0</td>\n",
       "      <td>0</td>\n",
       "    </tr>\n",
       "    <tr>\n",
       "      <th>2</th>\n",
       "      <td>0</td>\n",
       "      <td>0</td>\n",
       "      <td>0</td>\n",
       "    </tr>\n",
       "    <tr>\n",
       "      <th>3</th>\n",
       "      <td>0</td>\n",
       "      <td>0</td>\n",
       "      <td>0</td>\n",
       "    </tr>\n",
       "    <tr>\n",
       "      <th>4</th>\n",
       "      <td>0</td>\n",
       "      <td>0</td>\n",
       "      <td>0</td>\n",
       "    </tr>\n",
       "  </tbody>\n",
       "</table>\n",
       "</div>"
      ],
      "text/plain": [
       "   creditcard  dollar  payment\n",
       "0           0       0        0\n",
       "1           0       0        0\n",
       "2           0       0        0\n",
       "3           0       0        0\n",
       "4           0       0        0"
      ]
     },
     "execution_count": 47,
     "metadata": {},
     "output_type": "execute_result"
    }
   ],
   "source": [
    "df_train_features.head()"
   ]
  },
  {
   "cell_type": "markdown",
   "metadata": {},
   "source": [
    "Create the feature vectors for the development set too"
   ]
  },
  {
   "cell_type": "code",
   "execution_count": 48,
   "metadata": {
    "collapsed": true
   },
   "outputs": [],
   "source": [
    "dev_dollarsign_feature = df_dev['Consumer complaint narrative'].apply(lambda x: unigram_feature(x, ('$')))\n",
    "dev_payment_feature = df_dev['Consumer complaint narrative'].apply(lambda x: unigram_feature(x, ('payment')))\n",
    "dev_creditcard_feature = df_dev['Consumer complaint narrative'].apply(lambda x: bigram_feature(x, ('credit card')))"
   ]
  },
  {
   "cell_type": "code",
   "execution_count": 49,
   "metadata": {
    "collapsed": false
   },
   "outputs": [],
   "source": [
    "df_dev_features = pd.DataFrame({'dollar': dev_dollarsign_feature, \n",
    "                                'payment': dev_payment_feature, \n",
    "                                'creditcard': dev_creditcard_feature})"
   ]
  },
  {
   "cell_type": "code",
   "execution_count": 50,
   "metadata": {
    "collapsed": false
   },
   "outputs": [
    {
     "data": {
      "text/html": [
       "<div>\n",
       "<table border=\"1\" class=\"dataframe\">\n",
       "  <thead>\n",
       "    <tr style=\"text-align: right;\">\n",
       "      <th></th>\n",
       "      <th>creditcard</th>\n",
       "      <th>dollar</th>\n",
       "      <th>payment</th>\n",
       "    </tr>\n",
       "  </thead>\n",
       "  <tbody>\n",
       "    <tr>\n",
       "      <th>0</th>\n",
       "      <td>1</td>\n",
       "      <td>0</td>\n",
       "      <td>0</td>\n",
       "    </tr>\n",
       "    <tr>\n",
       "      <th>1</th>\n",
       "      <td>0</td>\n",
       "      <td>0</td>\n",
       "      <td>0</td>\n",
       "    </tr>\n",
       "    <tr>\n",
       "      <th>2</th>\n",
       "      <td>0</td>\n",
       "      <td>0</td>\n",
       "      <td>0</td>\n",
       "    </tr>\n",
       "    <tr>\n",
       "      <th>3</th>\n",
       "      <td>0</td>\n",
       "      <td>0</td>\n",
       "      <td>0</td>\n",
       "    </tr>\n",
       "    <tr>\n",
       "      <th>4</th>\n",
       "      <td>0</td>\n",
       "      <td>0</td>\n",
       "      <td>0</td>\n",
       "    </tr>\n",
       "  </tbody>\n",
       "</table>\n",
       "</div>"
      ],
      "text/plain": [
       "   creditcard  dollar  payment\n",
       "0           1       0        0\n",
       "1           0       0        0\n",
       "2           0       0        0\n",
       "3           0       0        0\n",
       "4           0       0        0"
      ]
     },
     "execution_count": 50,
     "metadata": {},
     "output_type": "execute_result"
    }
   ],
   "source": [
    "df_dev_features.head()"
   ]
  },
  {
   "cell_type": "markdown",
   "metadata": {},
   "source": [
    "### Building a model using your features\n",
    "\n",
    "We'll build a single Naive Bayes to predict the product category based on the consumer complain features we just created.  The 'fit' function does the training.  We pass in the features and the correct classes that we want as output (the Product column) as the arguments."
   ]
  },
  {
   "cell_type": "code",
   "execution_count": 51,
   "metadata": {
    "collapsed": false
   },
   "outputs": [],
   "source": [
    "from sklearn.naive_bayes import MultinomialNB\n",
    "\n",
    "nb = MultinomialNB()\n",
    "nb_model = nb.fit(df_train_features, df_train.Product)"
   ]
  },
  {
   "cell_type": "markdown",
   "metadata": {},
   "source": [
    "The predict function does the classification."
   ]
  },
  {
   "cell_type": "code",
   "execution_count": 52,
   "metadata": {
    "collapsed": false
   },
   "outputs": [
    {
     "data": {
      "text/plain": [
       "'Credit reporting'"
      ]
     },
     "execution_count": 52,
     "metadata": {},
     "output_type": "execute_result"
    }
   ],
   "source": [
    "nb_predictions = nb_model.predict(df_dev_features)\n",
    "nb_predictions[0]"
   ]
  },
  {
   "cell_type": "markdown",
   "metadata": {},
   "source": [
    "We'll use a `Scikit-Learn` function to calculate the accuracy."
   ]
  },
  {
   "cell_type": "code",
   "execution_count": 53,
   "metadata": {
    "collapsed": false
   },
   "outputs": [
    {
     "data": {
      "text/plain": [
       "0.34181989627534182"
      ]
     },
     "execution_count": 53,
     "metadata": {},
     "output_type": "execute_result"
    }
   ],
   "source": [
    "from sklearn.metrics import accuracy_score\n",
    "\n",
    "accuracy_score(df_dev.Product, nb_predictions)"
   ]
  },
  {
   "cell_type": "markdown",
   "metadata": {},
   "source": [
    "Ouch! That's not a very good overall score. Let's look at individual class accuracy."
   ]
  },
  {
   "cell_type": "markdown",
   "metadata": {},
   "source": [
    "### Classification report\n",
    "\n",
    "Another way of evaluating the performance of your models is to use `Scikit-Learn`'s `classification_report` function.\n",
    "\n",
    "* **Precision**:\n",
    "$$\\frac{TP} {TP+FP}$$\n",
    "\n",
    "* **Recall, Sensitivity, TP Rate**:\n",
    "$$\\frac{TP} {TP+FN}$$\n",
    "\n",
    "* **$F_1$ Measure**:\n",
    "$$F _1 = 2 \\frac{PR} {P + R}$$"
   ]
  },
  {
   "cell_type": "markdown",
   "metadata": {},
   "source": [
    "The class labels are usually returned sorted in alphabetical/numerical order."
   ]
  },
  {
   "cell_type": "code",
   "execution_count": 54,
   "metadata": {
    "collapsed": true
   },
   "outputs": [],
   "source": [
    "class_labels = np.sort(df_train.Product.unique())"
   ]
  },
  {
   "cell_type": "markdown",
   "metadata": {},
   "source": [
    "Run the full report"
   ]
  },
  {
   "cell_type": "code",
   "execution_count": 55,
   "metadata": {
    "collapsed": false
   },
   "outputs": [
    {
     "name": "stdout",
     "output_type": "stream",
     "text": [
      "                         precision    recall  f1-score   support\n",
      "\n",
      "Bank account or service       0.11      0.01      0.01       334\n",
      "          Consumer loan       0.00      0.00      0.00       211\n",
      "            Credit card       0.66      0.18      0.29       445\n",
      "       Credit reporting       0.13      0.04      0.07       817\n",
      "        Debt collection       0.33      0.82      0.47      1204\n",
      "        Money transfers       0.00      0.00      0.00        39\n",
      "               Mortgage       0.43      0.35      0.39       965\n",
      "Other financial service       0.00      0.00      0.00         8\n",
      "            Payday loan       0.00      0.00      0.00        48\n",
      "           Prepaid card       0.00      0.00      0.00        31\n",
      "           Student loan       0.00      0.00      0.00       140\n",
      "\n",
      "            avg / total       0.29      0.34      0.26      4242\n",
      "\n"
     ]
    },
    {
     "name": "stderr",
     "output_type": "stream",
     "text": [
      "/Users/nicolassoldi/anaconda/lib/python3.4/site-packages/sklearn/metrics/classification.py:958: UndefinedMetricWarning: Precision and F-score are ill-defined and being set to 0.0 in labels with no predicted samples.\n",
      "  'precision', 'predicted', average, warn_for)\n"
     ]
    }
   ],
   "source": [
    "from sklearn.metrics import classification_report\n",
    "\n",
    "print(classification_report(df_dev.Product, nb_predictions, target_names=class_labels))"
   ]
  },
  {
   "cell_type": "markdown",
   "metadata": {},
   "source": [
    "### Creating feature using overall word counts\n",
    "\n",
    "Another strategy of creating features is to use *all* the words in our collection. [`CountVectorizer()`](http://scikit-learn.org/stable/modules/generated/sklearn.feature_extraction.text.CountVectorizer.html) accepts an array of text and converts the text through tokenization and counting unique terms, thereby generating our so-called \"bag of words\".\n",
    "\n",
    "In other words, for each row in our `DataFrame` we get a long vector/array of the counts of each word.  You can modify the tokenizer, remove stop words, generate n-gram features, and perform other types of text processing. \n",
    "\n",
    "Here are some options to explore:\n",
    "\n",
    "`token_pattern : string`\n",
    "\n",
    "> Regular expression denoting what constitutes a “token”, only used if tokenize == ‘word’. The default regexp select tokens of 2 or more alphanumeric characters (punctuation is completely ignored and always treated as a token separator).\n",
    "\n",
    "`min_df : float in range [0.0, 1.0] or int, default=1`\n",
    "\n",
    "> When building the vocabulary ignore terms that have a document frequency strictly lower than the given threshold. This value is also called cut-off in the literature. If float, the parameter represents a proportion of documents, integer absolute counts. This parameter is ignored if vocabulary is not None.\n",
    "\n",
    "`max_features : int or None, default=None`\n",
    "\n",
    "> If not None, build a vocabulary that only consider the top max_features ordered by term frequency across the corpus. This parameter is ignored if vocabulary is not None.\n",
    "\n",
    "`stop_words : string {‘english’}, list, or None (default)`\n",
    "\n",
    "> If ‘english’, a built-in stop word list for English is used. If a list, that list is assumed to contain stop words, all of which will be removed from the resulting tokens. If None, no stop words will be used. max_df can be set to a value in the range [0.7, 1.0) to automatically detect and filter stop words based on intra corpus document frequency of terms.\n",
    "\n",
    "\n",
    "`ngram_range : tuple (min_n, max_n)`\n",
    "\n",
    "> The lower and upper boundary of the range of n-values for different n-grams to be extracted. All values of n such that min_n <= n <= max_n will be used.\n",
    "\n",
    "\n",
    "If you're interested in using Tf-Idf instead of counts, check out [`TfidfVectorizer()`](http://scikit-learn.org/stable/modules/generated/sklearn.feature_extraction.text.TfidfVectorizer.html)\n",
    "\n",
    "The [feature extraction documentation](http://scikit-learn.org/stable/modules/feature_extraction.html) from Scikit-Learn is also very good."
   ]
  },
  {
   "cell_type": "code",
   "execution_count": 56,
   "metadata": {
    "collapsed": false
   },
   "outputs": [],
   "source": [
    "from sklearn.feature_extraction.text import CountVectorizer"
   ]
  },
  {
   "cell_type": "markdown",
   "metadata": {},
   "source": [
    "Let's use n-gram between 1 to 2 values with a simplified token pattern to find ngrams that occur more than 5 times in the collection."
   ]
  },
  {
   "cell_type": "code",
   "execution_count": 57,
   "metadata": {
    "collapsed": false
   },
   "outputs": [],
   "source": [
    "vec = CountVectorizer(ngram_range=(1, 2), token_pattern=r'\\b\\w+\\b', min_df=5)"
   ]
  },
  {
   "cell_type": "markdown",
   "metadata": {},
   "source": [
    "We can manually inspect what the tokenizer does by passing in a string"
   ]
  },
  {
   "cell_type": "code",
   "execution_count": 58,
   "metadata": {
    "collapsed": false
   },
   "outputs": [],
   "source": [
    "tokenizer = vec.build_tokenizer()"
   ]
  },
  {
   "cell_type": "code",
   "execution_count": 59,
   "metadata": {
    "collapsed": false
   },
   "outputs": [
    {
     "data": {
      "text/plain": [
       "['What', 's', 'the', 'warranty', 'for', 'this', '40', '00', 'toaster']"
      ]
     },
     "execution_count": 59,
     "metadata": {},
     "output_type": "execute_result"
    }
   ],
   "source": [
    "tokenizer(\"What's the warranty for this $40.00 toaster?\")"
   ]
  },
  {
   "cell_type": "markdown",
   "metadata": {},
   "source": [
    "For starters, we'll use the default tokenization pattern and all the text across the **training set** to create our feature vectors. The `fit_transform()` performs this activity and returns a sparse array of the word counts."
   ]
  },
  {
   "cell_type": "code",
   "execution_count": 60,
   "metadata": {
    "collapsed": false
   },
   "outputs": [
    {
     "data": {
      "text/plain": [
       "<12725x56714 sparse matrix of type '<class 'numpy.int64'>'\n",
       "\twith 2720824 stored elements in Compressed Sparse Row format>"
      ]
     },
     "execution_count": 60,
     "metadata": {},
     "output_type": "execute_result"
    }
   ],
   "source": [
    "arr_train_feature_sparse = vec.fit_transform(df_train[\"Consumer complaint narrative\"])\n",
    "arr_train_feature_sparse"
   ]
  },
  {
   "cell_type": "markdown",
   "metadata": {},
   "source": [
    "A sparse matrix is an efficient way of storing data where most values are 0. Just for information's sake, below we convert the sparse array into a normal array to get a better sense of what's going on."
   ]
  },
  {
   "cell_type": "code",
   "execution_count": 61,
   "metadata": {
    "collapsed": false
   },
   "outputs": [
    {
     "data": {
      "text/plain": [
       "array([[0, 0, 0, ..., 0, 0, 0],\n",
       "       [0, 0, 0, ..., 0, 0, 0],\n",
       "       [0, 0, 0, ..., 0, 0, 0],\n",
       "       ..., \n",
       "       [0, 0, 0, ..., 0, 0, 0],\n",
       "       [0, 0, 0, ..., 0, 0, 0],\n",
       "       [0, 0, 0, ..., 0, 0, 0]], dtype=int64)"
      ]
     },
     "execution_count": 61,
     "metadata": {},
     "output_type": "execute_result"
    }
   ],
   "source": [
    "arr_train_feature = arr_train_feature_sparse.toarray()\n",
    "arr_train_feature"
   ]
  },
  {
   "cell_type": "markdown",
   "metadata": {},
   "source": [
    "Instead of getting back a `Pandas DataFrame`, we get back a `numpy array` object."
   ]
  },
  {
   "cell_type": "markdown",
   "metadata": {},
   "source": [
    "### Inspecting our features\n",
    "\n",
    "To see what our features are, we'll use the `get_feature_names()` function on our `vec` object that we fitted and transformed.  Remember that we asked for both unigrams and bigrams when we created the feature vector.\n",
    "\n",
    "You'll see a lot of nonsensical features there. What are some strategies that you can think of to make the tokenizer produce more informative features?"
   ]
  },
  {
   "cell_type": "code",
   "execution_count": 63,
   "metadata": {
    "collapsed": false
   },
   "outputs": [
    {
     "data": {
      "text/plain": [
       "['00 month',\n",
       " '00 monthly',\n",
       " '00 more',\n",
       " '00 mortgage',\n",
       " '00 my',\n",
       " '00 negative',\n",
       " '00 no',\n",
       " '00 not',\n",
       " '00 now',\n",
       " '00 nsf']"
      ]
     },
     "execution_count": 63,
     "metadata": {},
     "output_type": "execute_result"
    }
   ],
   "source": [
    "feature_labels = vec.get_feature_names()\n",
    "feature_labels[100:110]"
   ]
  },
  {
   "cell_type": "markdown",
   "metadata": {},
   "source": [
    "Let's try matching one word from the first row in our `DataFrame` to it's respective position in our feature vector."
   ]
  },
  {
   "cell_type": "code",
   "execution_count": 64,
   "metadata": {
    "collapsed": false
   },
   "outputs": [
    {
     "data": {
      "text/plain": [
       "\"I have attempted to get this inaccurate judgment removed from my Equifax and XXXX credit reports for months. They keep referring me back to the courthouse and when I contact the courthouse, they are indicating that they did not report nor do they do any reporting to the credit bureaus, so they ca n't help me. The staff at the courthouse also provided the above information in writing. After submitting it to XXXX and Equifax, they still refuse to remove this inaccurate information from my credit report. \""
      ]
     },
     "execution_count": 64,
     "metadata": {},
     "output_type": "execute_result"
    }
   ],
   "source": [
    "row0 = df_train.ix[0, 'Consumer complaint narrative']\n",
    "row0"
   ]
  },
  {
   "cell_type": "markdown",
   "metadata": {},
   "source": [
    "This is how we search for a word in the feature labels."
   ]
  },
  {
   "cell_type": "code",
   "execution_count": 69,
   "metadata": {
    "collapsed": false
   },
   "outputs": [
    {
     "data": {
      "text/plain": [
       "14134"
      ]
     },
     "execution_count": 69,
     "metadata": {},
     "output_type": "execute_result"
    }
   ],
   "source": [
    "feature_index = feature_labels.index('credit')\n",
    "feature_index"
   ]
  },
  {
   "cell_type": "markdown",
   "metadata": {},
   "source": [
    "We should expect the count of the number of occurrences"
   ]
  },
  {
   "cell_type": "code",
   "execution_count": 70,
   "metadata": {
    "collapsed": false
   },
   "outputs": [
    {
     "data": {
      "text/plain": [
       "3"
      ]
     },
     "execution_count": 70,
     "metadata": {},
     "output_type": "execute_result"
    }
   ],
   "source": [
    "arr_train_feature[0, feature_index]"
   ]
  },
  {
   "cell_type": "markdown",
   "metadata": {},
   "source": [
    "In order to build our model, we'll need to perform the same transformation on our dev and test sets as we did on the training set.  To do this, we use the `transform()` function.\n",
    "\n",
    "Note that we use 'transform()' and not  `fit_transform()` since that would reset the features using the text from the dev or test set. We only want to use the features that are present in the training set."
   ]
  },
  {
   "cell_type": "code",
   "execution_count": 71,
   "metadata": {
    "collapsed": true
   },
   "outputs": [],
   "source": [
    "arr_dev_feature_sparse = vec.transform(df_dev[\"Consumer complaint narrative\"])\n",
    "arr_dev_feature = arr_dev_feature_sparse.toarray()"
   ]
  },
  {
   "cell_type": "markdown",
   "metadata": {},
   "source": [
    "### We have way more features than observations!\n",
    "\n",
    "This is a good time to consider dimensionality reduction."
   ]
  },
  {
   "cell_type": "code",
   "execution_count": 72,
   "metadata": {
    "collapsed": false
   },
   "outputs": [
    {
     "data": {
      "text/plain": [
       "(12725, 56714)"
      ]
     },
     "execution_count": 72,
     "metadata": {},
     "output_type": "execute_result"
    }
   ],
   "source": [
    "arr_train_feature.shape"
   ]
  },
  {
   "cell_type": "markdown",
   "metadata": {},
   "source": [
    "### Most common features\n",
    "\n",
    "Let's plot the distribution of counts for the massive feature set we created."
   ]
  },
  {
   "cell_type": "code",
   "execution_count": 73,
   "metadata": {
    "collapsed": false
   },
   "outputs": [],
   "source": [
    "feature_sum = arr_train_feature.sum(axis=0)\n",
    "\n",
    "df_feature_sum = pd.DataFrame({'counts': feature_sum})\n",
    "df_feature_sum.index = vec.get_feature_names()"
   ]
  },
  {
   "cell_type": "markdown",
   "metadata": {},
   "source": [
    "Top 10 features"
   ]
  },
  {
   "cell_type": "code",
   "execution_count": 74,
   "metadata": {
    "collapsed": false
   },
   "outputs": [
    {
     "data": {
      "text/html": [
       "<div>\n",
       "<table border=\"1\" class=\"dataframe\">\n",
       "  <thead>\n",
       "    <tr style=\"text-align: right;\">\n",
       "      <th></th>\n",
       "      <th>counts</th>\n",
       "    </tr>\n",
       "  </thead>\n",
       "  <tbody>\n",
       "    <tr>\n",
       "      <th>xxxx</th>\n",
       "      <td>115356</td>\n",
       "    </tr>\n",
       "    <tr>\n",
       "      <th>the</th>\n",
       "      <td>95074</td>\n",
       "    </tr>\n",
       "    <tr>\n",
       "      <th>i</th>\n",
       "      <td>89432</td>\n",
       "    </tr>\n",
       "    <tr>\n",
       "      <th>to</th>\n",
       "      <td>79833</td>\n",
       "    </tr>\n",
       "    <tr>\n",
       "      <th>and</th>\n",
       "      <td>63730</td>\n",
       "    </tr>\n",
       "    <tr>\n",
       "      <th>a</th>\n",
       "      <td>48424</td>\n",
       "    </tr>\n",
       "    <tr>\n",
       "      <th>my</th>\n",
       "      <td>47713</td>\n",
       "    </tr>\n",
       "    <tr>\n",
       "      <th>xxxx xxxx</th>\n",
       "      <td>37530</td>\n",
       "    </tr>\n",
       "    <tr>\n",
       "      <th>of</th>\n",
       "      <td>37228</td>\n",
       "    </tr>\n",
       "    <tr>\n",
       "      <th>that</th>\n",
       "      <td>36315</td>\n",
       "    </tr>\n",
       "  </tbody>\n",
       "</table>\n",
       "</div>"
      ],
      "text/plain": [
       "           counts\n",
       "xxxx       115356\n",
       "the         95074\n",
       "i           89432\n",
       "to          79833\n",
       "and         63730\n",
       "a           48424\n",
       "my          47713\n",
       "xxxx xxxx   37530\n",
       "of          37228\n",
       "that        36315"
      ]
     },
     "execution_count": 74,
     "metadata": {},
     "output_type": "execute_result"
    }
   ],
   "source": [
    "df_feature_sum.sort('counts', ascending=False)[:10]"
   ]
  },
  {
   "cell_type": "markdown",
   "metadata": {},
   "source": [
    "Plot the top 50 features"
   ]
  },
  {
   "cell_type": "code",
   "execution_count": 75,
   "metadata": {
    "collapsed": false
   },
   "outputs": [
    {
     "data": {
      "image/png": "[encoded data removed]",
      "text/plain": [
       "<matplotlib.figure.Figure at 0x10bc59978>"
      ]
     },
     "metadata": {},
     "output_type": "display_data"
    }
   ],
   "source": [
    "df_feature_sum.sort('counts', ascending=False)[:50].plot(kind='barh', figsize=(7,10));"
   ]
  },
  {
   "cell_type": "markdown",
   "metadata": {},
   "source": [
    "### Many of these features are stopwords\n",
    "\n",
    "How might we fix this?  (Hint: this makes the algorithm work much better on this classification problem.)"
   ]
  },
  {
   "cell_type": "markdown",
   "metadata": {},
   "source": [
    "### Let's manually reduce our dimensions by using only use the top N features in our training set\n",
    "\n",
    "Since so many of our features rarely occur, let's (arbitrary) cap our features to the top 1000 most common n-grams using the `max_features` variable within the `CountVectorizer()` function."
   ]
  },
  {
   "cell_type": "code",
   "execution_count": 76,
   "metadata": {
    "collapsed": false
   },
   "outputs": [
    {
     "data": {
      "text/plain": [
       "(12725, 1000)"
      ]
     },
     "execution_count": 76,
     "metadata": {},
     "output_type": "execute_result"
    }
   ],
   "source": [
    "vec = CountVectorizer(ngram_range=(1, 2), token_pattern=r'\\b\\w+\\b', min_df=5, max_features=1000)\n",
    "arr_train_feature_sparse = vec.fit_transform(df_train[\"Consumer complaint narrative\"])\n",
    "arr_train_feature = arr_train_feature_sparse.toarray()\n",
    "arr_train_feature.shape"
   ]
  },
  {
   "cell_type": "markdown",
   "metadata": {},
   "source": [
    "Remember that if you transform the training set, you also have to transfomr the development set using this new vector vec to get the desired effect."
   ]
  },
  {
   "cell_type": "code",
   "execution_count": 77,
   "metadata": {
    "collapsed": false
   },
   "outputs": [
    {
     "data": {
      "text/plain": [
       "(4242, 1000)"
      ]
     },
     "execution_count": 77,
     "metadata": {},
     "output_type": "execute_result"
    }
   ],
   "source": [
    "arr_dev_feature_sparse = vec.transform(df_dev[\"Consumer complaint narrative\"])\n",
    "arr_dev_feature = arr_dev_feature_sparse.toarray()\n",
    "arr_dev_feature.shape"
   ]
  },
  {
   "cell_type": "markdown",
   "metadata": {},
   "source": [
    "# Train two machine learning classification models\n",
    "\n",
    "### Naive Bayes (generative)\n",
    "\n",
    "This initializes a [Multinomial Naive Bayes](http://scikit-learn.org/stable/modules/generated/sklearn.naive_bayes.MultinomialNB.html#sklearn.naive_bayes.MultinomialNB) model which we then fit in the next row. We pass the training features along with their true labels, `df_train.Product`."
   ]
  },
  {
   "cell_type": "code",
   "execution_count": 78,
   "metadata": {
    "collapsed": false
   },
   "outputs": [],
   "source": [
    "from sklearn.naive_bayes import MultinomialNB\n",
    "\n",
    "nb = MultinomialNB()\n",
    "nb_model = nb.fit(arr_train_feature, df_train.Product)"
   ]
  },
  {
   "cell_type": "markdown",
   "metadata": {},
   "source": [
    "We can easily predict the labels using our new model and the feature vectors from the dev set."
   ]
  },
  {
   "cell_type": "code",
   "execution_count": 82,
   "metadata": {
    "collapsed": false
   },
   "outputs": [
    {
     "data": {
      "text/plain": [
       "'Debt collection'"
      ]
     },
     "execution_count": 82,
     "metadata": {},
     "output_type": "execute_result"
    }
   ],
   "source": [
    "nb_predictions = nb_model.predict(arr_dev_feature)\n",
    "nb_predictions[0]"
   ]
  },
  {
   "cell_type": "markdown",
   "metadata": {},
   "source": [
    "This function returns the accuracy of our Naive Bayes model."
   ]
  },
  {
   "cell_type": "code",
   "execution_count": 83,
   "metadata": {
    "collapsed": false,
    "scrolled": true
   },
   "outputs": [
    {
     "data": {
      "text/plain": [
       "0.74846770391324846"
      ]
     },
     "execution_count": 83,
     "metadata": {},
     "output_type": "execute_result"
    }
   ],
   "source": [
    "accuracy_score(df_dev.Product, nb_predictions)"
   ]
  },
  {
   "cell_type": "markdown",
   "metadata": {},
   "source": [
    "Instead of looking at the class labels, let's look at the probability of predicting each class."
   ]
  },
  {
   "cell_type": "code",
   "execution_count": 86,
   "metadata": {
    "collapsed": false
   },
   "outputs": [
    {
     "data": {
      "text/plain": [
       "(4242, 11)"
      ]
     },
     "execution_count": 86,
     "metadata": {},
     "output_type": "execute_result"
    }
   ],
   "source": [
    "nb_predictions_probs = nb_model.predict_proba(arr_dev_feature)\n",
    "nb_predictions_probs.shape"
   ]
  },
  {
   "cell_type": "markdown",
   "metadata": {},
   "source": [
    "Plot the predicted probabilities of each class for the first observation in our dev set."
   ]
  },
  {
   "cell_type": "code",
   "execution_count": 87,
   "metadata": {
    "collapsed": false
   },
   "outputs": [
    {
     "data": {
      "image/png": "[encoded data removed]",
      "text/plain": [
       "<matplotlib.figure.Figure at 0x1110deac8>"
      ]
     },
     "metadata": {},
     "output_type": "display_data"
    }
   ],
   "source": [
    "plt.figure(figsize=(8,5))\n",
    "plt.plot(nb_predictions_probs[0,:])\n",
    "plt.xticks(np.arange(11), class_labels, rotation='vertical')\n",
    "plt.show()"
   ]
  },
  {
   "cell_type": "markdown",
   "metadata": {},
   "source": [
    "What does the text look like for the first observation in the dev set?"
   ]
  },
  {
   "cell_type": "code",
   "execution_count": 88,
   "metadata": {
    "collapsed": false
   },
   "outputs": [
    {
     "data": {
      "text/plain": [
       "\"called my news wifes cell phone number ( got married 2 months ago ) on a debit from 2004 ( credit card ). I did n't even know her then and this is the XXXX call to her in XXXX month. They should n't even have her phone number. The XXXX call she asked to have her number removed and not associated with this. and today they called again \""
      ]
     },
     "execution_count": 88,
     "metadata": {},
     "output_type": "execute_result"
    }
   ],
   "source": [
    "df_dev.loc[0, 'Consumer complaint narrative']"
   ]
  },
  {
   "cell_type": "markdown",
   "metadata": {},
   "source": [
    "It's real label?"
   ]
  },
  {
   "cell_type": "code",
   "execution_count": 89,
   "metadata": {
    "collapsed": false
   },
   "outputs": [
    {
     "data": {
      "text/plain": [
       "'Debt collection'"
      ]
     },
     "execution_count": 89,
     "metadata": {},
     "output_type": "execute_result"
    }
   ],
   "source": [
    "df_dev.loc[0, 'Product']"
   ]
  },
  {
   "cell_type": "markdown",
   "metadata": {},
   "source": [
    "### Logistic Regression (discriminative)\n",
    "\n",
    "We perform the same steps here as we did above."
   ]
  },
  {
   "cell_type": "code",
   "execution_count": 90,
   "metadata": {
    "collapsed": false
   },
   "outputs": [],
   "source": [
    "from sklearn.linear_model import LogisticRegression\n",
    "\n",
    "logreg = LogisticRegression()\n",
    "logreg_model = logreg.fit(arr_train_feature, df_train.Product)"
   ]
  },
  {
   "cell_type": "code",
   "execution_count": 91,
   "metadata": {
    "collapsed": false
   },
   "outputs": [],
   "source": [
    "logreg_predictions = logreg_model.predict(arr_dev_feature)"
   ]
  },
  {
   "cell_type": "code",
   "execution_count": 92,
   "metadata": {
    "collapsed": false
   },
   "outputs": [
    {
     "data": {
      "text/plain": [
       "0.77322017916077324"
      ]
     },
     "execution_count": 92,
     "metadata": {},
     "output_type": "execute_result"
    }
   ],
   "source": [
    "accuracy_score(df_dev.Product, logreg_predictions)"
   ]
  },
  {
   "cell_type": "markdown",
   "metadata": {},
   "source": [
    "Let's compare the probabilities for the first observation in the dev set between logistic regression and naive bayes."
   ]
  },
  {
   "cell_type": "code",
   "execution_count": 93,
   "metadata": {
    "collapsed": false
   },
   "outputs": [],
   "source": [
    "logreg_predictions_probs = logreg_model.predict_proba(arr_dev_feature)"
   ]
  },
  {
   "cell_type": "code",
   "execution_count": 94,
   "metadata": {
    "collapsed": false
   },
   "outputs": [
    {
     "data": {
      "image/png": "[encoded data removed]",
      "text/plain": [
       "<matplotlib.figure.Figure at 0x110770c18>"
      ]
     },
     "metadata": {},
     "output_type": "display_data"
    }
   ],
   "source": [
    "plt.figure(figsize=(8,5))\n",
    "plt.plot(logreg_predictions_probs[0,:], label='Logistic Regression')\n",
    "plt.plot(nb_predictions_probs[0,:], label='Naive Bayes')\n",
    "plt.xticks(np.arange(11), class_labels, rotation='vertical')\n",
    "plt.legend(frameon=False)\n",
    "plt.show()"
   ]
  },
  {
   "cell_type": "code",
   "execution_count": 100,
   "metadata": {
    "collapsed": false
   },
   "outputs": [
    {
     "data": {
      "text/plain": [
       "'Debt collection'"
      ]
     },
     "execution_count": 100,
     "metadata": {},
     "output_type": "execute_result"
    }
   ],
   "source": [
    "logreg_predictions[0]"
   ]
  },
  {
   "cell_type": "markdown",
   "metadata": {},
   "source": [
    "# Create Confusion Matrix\n",
    "\n",
    "A confusion matrix is handy when inspecting the errors from a multi-class classification problem. Each row and column represents the how well our predicted labels matched their true values. \n",
    "\n",
    "`Scikit-Learn` has a function called `confusion_matrix()` which produces array with this data. However, the `Pandas crosstab` function does a better job displaying this information.\n",
    "\n",
    "Remember, if our model had 100% accuracy, we would expect only the diagonal values to be populated."
   ]
  },
  {
   "cell_type": "code",
   "execution_count": 101,
   "metadata": {
    "collapsed": false
   },
   "outputs": [
    {
     "data": {
      "text/html": [
       "<div>\n",
       "<table border=\"1\" class=\"dataframe\">\n",
       "  <thead>\n",
       "    <tr style=\"text-align: right;\">\n",
       "      <th>Predicted</th>\n",
       "      <th>Bank account or service</th>\n",
       "      <th>Consumer loan</th>\n",
       "      <th>Credit card</th>\n",
       "      <th>Credit reporting</th>\n",
       "      <th>Debt collection</th>\n",
       "      <th>Money transfers</th>\n",
       "      <th>Mortgage</th>\n",
       "      <th>Other financial service</th>\n",
       "      <th>Payday loan</th>\n",
       "      <th>Prepaid card</th>\n",
       "      <th>Student loan</th>\n",
       "      <th>All</th>\n",
       "    </tr>\n",
       "    <tr>\n",
       "      <th>True</th>\n",
       "      <th></th>\n",
       "      <th></th>\n",
       "      <th></th>\n",
       "      <th></th>\n",
       "      <th></th>\n",
       "      <th></th>\n",
       "      <th></th>\n",
       "      <th></th>\n",
       "      <th></th>\n",
       "      <th></th>\n",
       "      <th></th>\n",
       "      <th></th>\n",
       "    </tr>\n",
       "  </thead>\n",
       "  <tbody>\n",
       "    <tr>\n",
       "      <th>Bank account or service</th>\n",
       "      <td>236</td>\n",
       "      <td>4</td>\n",
       "      <td>27</td>\n",
       "      <td>13</td>\n",
       "      <td>4</td>\n",
       "      <td>20</td>\n",
       "      <td>14</td>\n",
       "      <td>0</td>\n",
       "      <td>1</td>\n",
       "      <td>13</td>\n",
       "      <td>2</td>\n",
       "      <td>334</td>\n",
       "    </tr>\n",
       "    <tr>\n",
       "      <th>Consumer loan</th>\n",
       "      <td>7</td>\n",
       "      <td>105</td>\n",
       "      <td>10</td>\n",
       "      <td>13</td>\n",
       "      <td>24</td>\n",
       "      <td>2</td>\n",
       "      <td>16</td>\n",
       "      <td>0</td>\n",
       "      <td>17</td>\n",
       "      <td>5</td>\n",
       "      <td>12</td>\n",
       "      <td>211</td>\n",
       "    </tr>\n",
       "    <tr>\n",
       "      <th>Credit card</th>\n",
       "      <td>31</td>\n",
       "      <td>11</td>\n",
       "      <td>314</td>\n",
       "      <td>34</td>\n",
       "      <td>24</td>\n",
       "      <td>5</td>\n",
       "      <td>6</td>\n",
       "      <td>0</td>\n",
       "      <td>3</td>\n",
       "      <td>10</td>\n",
       "      <td>7</td>\n",
       "      <td>445</td>\n",
       "    </tr>\n",
       "    <tr>\n",
       "      <th>Credit reporting</th>\n",
       "      <td>2</td>\n",
       "      <td>15</td>\n",
       "      <td>18</td>\n",
       "      <td>702</td>\n",
       "      <td>54</td>\n",
       "      <td>0</td>\n",
       "      <td>16</td>\n",
       "      <td>0</td>\n",
       "      <td>0</td>\n",
       "      <td>3</td>\n",
       "      <td>7</td>\n",
       "      <td>817</td>\n",
       "    </tr>\n",
       "    <tr>\n",
       "      <th>Debt collection</th>\n",
       "      <td>12</td>\n",
       "      <td>29</td>\n",
       "      <td>32</td>\n",
       "      <td>173</td>\n",
       "      <td>841</td>\n",
       "      <td>6</td>\n",
       "      <td>33</td>\n",
       "      <td>3</td>\n",
       "      <td>33</td>\n",
       "      <td>4</td>\n",
       "      <td>38</td>\n",
       "      <td>1204</td>\n",
       "    </tr>\n",
       "    <tr>\n",
       "      <th>Money transfers</th>\n",
       "      <td>4</td>\n",
       "      <td>3</td>\n",
       "      <td>4</td>\n",
       "      <td>0</td>\n",
       "      <td>1</td>\n",
       "      <td>24</td>\n",
       "      <td>2</td>\n",
       "      <td>0</td>\n",
       "      <td>0</td>\n",
       "      <td>0</td>\n",
       "      <td>1</td>\n",
       "      <td>39</td>\n",
       "    </tr>\n",
       "    <tr>\n",
       "      <th>Mortgage</th>\n",
       "      <td>7</td>\n",
       "      <td>24</td>\n",
       "      <td>14</td>\n",
       "      <td>34</td>\n",
       "      <td>21</td>\n",
       "      <td>4</td>\n",
       "      <td>820</td>\n",
       "      <td>0</td>\n",
       "      <td>6</td>\n",
       "      <td>3</td>\n",
       "      <td>32</td>\n",
       "      <td>965</td>\n",
       "    </tr>\n",
       "    <tr>\n",
       "      <th>Other financial service</th>\n",
       "      <td>3</td>\n",
       "      <td>0</td>\n",
       "      <td>0</td>\n",
       "      <td>0</td>\n",
       "      <td>2</td>\n",
       "      <td>1</td>\n",
       "      <td>0</td>\n",
       "      <td>1</td>\n",
       "      <td>1</td>\n",
       "      <td>0</td>\n",
       "      <td>0</td>\n",
       "      <td>8</td>\n",
       "    </tr>\n",
       "    <tr>\n",
       "      <th>Payday loan</th>\n",
       "      <td>4</td>\n",
       "      <td>4</td>\n",
       "      <td>0</td>\n",
       "      <td>2</td>\n",
       "      <td>9</td>\n",
       "      <td>2</td>\n",
       "      <td>4</td>\n",
       "      <td>0</td>\n",
       "      <td>18</td>\n",
       "      <td>3</td>\n",
       "      <td>2</td>\n",
       "      <td>48</td>\n",
       "    </tr>\n",
       "    <tr>\n",
       "      <th>Prepaid card</th>\n",
       "      <td>5</td>\n",
       "      <td>0</td>\n",
       "      <td>2</td>\n",
       "      <td>1</td>\n",
       "      <td>0</td>\n",
       "      <td>2</td>\n",
       "      <td>0</td>\n",
       "      <td>0</td>\n",
       "      <td>0</td>\n",
       "      <td>21</td>\n",
       "      <td>0</td>\n",
       "      <td>31</td>\n",
       "    </tr>\n",
       "    <tr>\n",
       "      <th>Student loan</th>\n",
       "      <td>4</td>\n",
       "      <td>5</td>\n",
       "      <td>2</td>\n",
       "      <td>8</td>\n",
       "      <td>8</td>\n",
       "      <td>2</td>\n",
       "      <td>12</td>\n",
       "      <td>0</td>\n",
       "      <td>6</td>\n",
       "      <td>0</td>\n",
       "      <td>93</td>\n",
       "      <td>140</td>\n",
       "    </tr>\n",
       "    <tr>\n",
       "      <th>All</th>\n",
       "      <td>315</td>\n",
       "      <td>200</td>\n",
       "      <td>423</td>\n",
       "      <td>980</td>\n",
       "      <td>988</td>\n",
       "      <td>68</td>\n",
       "      <td>923</td>\n",
       "      <td>4</td>\n",
       "      <td>85</td>\n",
       "      <td>62</td>\n",
       "      <td>194</td>\n",
       "      <td>4242</td>\n",
       "    </tr>\n",
       "  </tbody>\n",
       "</table>\n",
       "</div>"
      ],
      "text/plain": [
       "Predicted                Bank account or service  Consumer loan  Credit card  \\\n",
       "True                                                                           \n",
       "Bank account or service                      236              4           27   \n",
       "Consumer loan                                  7            105           10   \n",
       "Credit card                                   31             11          314   \n",
       "Credit reporting                               2             15           18   \n",
       "Debt collection                               12             29           32   \n",
       "Money transfers                                4              3            4   \n",
       "Mortgage                                       7             24           14   \n",
       "Other financial service                        3              0            0   \n",
       "Payday loan                                    4              4            0   \n",
       "Prepaid card                                   5              0            2   \n",
       "Student loan                                   4              5            2   \n",
       "All                                          315            200          423   \n",
       "\n",
       "Predicted                Credit reporting  Debt collection  Money transfers  \\\n",
       "True                                                                          \n",
       "Bank account or service                13                4               20   \n",
       "Consumer loan                          13               24                2   \n",
       "Credit card                            34               24                5   \n",
       "Credit reporting                      702               54                0   \n",
       "Debt collection                       173              841                6   \n",
       "Money transfers                         0                1               24   \n",
       "Mortgage                               34               21                4   \n",
       "Other financial service                 0                2                1   \n",
       "Payday loan                             2                9                2   \n",
       "Prepaid card                            1                0                2   \n",
       "Student loan                            8                8                2   \n",
       "All                                   980              988               68   \n",
       "\n",
       "Predicted                Mortgage  Other financial service  Payday loan  \\\n",
       "True                                                                      \n",
       "Bank account or service        14                        0            1   \n",
       "Consumer loan                  16                        0           17   \n",
       "Credit card                     6                        0            3   \n",
       "Credit reporting               16                        0            0   \n",
       "Debt collection                33                        3           33   \n",
       "Money transfers                 2                        0            0   \n",
       "Mortgage                      820                        0            6   \n",
       "Other financial service         0                        1            1   \n",
       "Payday loan                     4                        0           18   \n",
       "Prepaid card                    0                        0            0   \n",
       "Student loan                   12                        0            6   \n",
       "All                           923                        4           85   \n",
       "\n",
       "Predicted                Prepaid card  Student loan   All  \n",
       "True                                                       \n",
       "Bank account or service            13             2   334  \n",
       "Consumer loan                       5            12   211  \n",
       "Credit card                        10             7   445  \n",
       "Credit reporting                    3             7   817  \n",
       "Debt collection                     4            38  1204  \n",
       "Money transfers                     0             1    39  \n",
       "Mortgage                            3            32   965  \n",
       "Other financial service             0             0     8  \n",
       "Payday loan                         3             2    48  \n",
       "Prepaid card                       21             0    31  \n",
       "Student loan                        0            93   140  \n",
       "All                                62           194  4242  "
      ]
     },
     "execution_count": 101,
     "metadata": {},
     "output_type": "execute_result"
    }
   ],
   "source": [
    "pd.crosstab(df_dev.Product, nb_predictions, \n",
    "            rownames=['True'], colnames=['Predicted'], \n",
    "            margins=True)"
   ]
  },
  {
   "cell_type": "code",
   "execution_count": 102,
   "metadata": {
    "collapsed": false
   },
   "outputs": [
    {
     "data": {
      "text/html": [
       "<div>\n",
       "<table border=\"1\" class=\"dataframe\">\n",
       "  <thead>\n",
       "    <tr style=\"text-align: right;\">\n",
       "      <th>Predicted</th>\n",
       "      <th>Bank account or service</th>\n",
       "      <th>Consumer loan</th>\n",
       "      <th>Credit card</th>\n",
       "      <th>Credit reporting</th>\n",
       "      <th>Debt collection</th>\n",
       "      <th>Money transfers</th>\n",
       "      <th>Mortgage</th>\n",
       "      <th>Other financial service</th>\n",
       "      <th>Payday loan</th>\n",
       "      <th>Prepaid card</th>\n",
       "      <th>Student loan</th>\n",
       "      <th>All</th>\n",
       "    </tr>\n",
       "    <tr>\n",
       "      <th>True</th>\n",
       "      <th></th>\n",
       "      <th></th>\n",
       "      <th></th>\n",
       "      <th></th>\n",
       "      <th></th>\n",
       "      <th></th>\n",
       "      <th></th>\n",
       "      <th></th>\n",
       "      <th></th>\n",
       "      <th></th>\n",
       "      <th></th>\n",
       "      <th></th>\n",
       "    </tr>\n",
       "  </thead>\n",
       "  <tbody>\n",
       "    <tr>\n",
       "      <th>Bank account or service</th>\n",
       "      <td>223</td>\n",
       "      <td>5</td>\n",
       "      <td>43</td>\n",
       "      <td>12</td>\n",
       "      <td>20</td>\n",
       "      <td>7</td>\n",
       "      <td>15</td>\n",
       "      <td>0</td>\n",
       "      <td>4</td>\n",
       "      <td>3</td>\n",
       "      <td>2</td>\n",
       "      <td>334</td>\n",
       "    </tr>\n",
       "    <tr>\n",
       "      <th>Consumer loan</th>\n",
       "      <td>7</td>\n",
       "      <td>97</td>\n",
       "      <td>12</td>\n",
       "      <td>15</td>\n",
       "      <td>44</td>\n",
       "      <td>1</td>\n",
       "      <td>17</td>\n",
       "      <td>0</td>\n",
       "      <td>9</td>\n",
       "      <td>1</td>\n",
       "      <td>8</td>\n",
       "      <td>211</td>\n",
       "    </tr>\n",
       "    <tr>\n",
       "      <th>Credit card</th>\n",
       "      <td>26</td>\n",
       "      <td>11</td>\n",
       "      <td>314</td>\n",
       "      <td>19</td>\n",
       "      <td>52</td>\n",
       "      <td>2</td>\n",
       "      <td>13</td>\n",
       "      <td>0</td>\n",
       "      <td>0</td>\n",
       "      <td>2</td>\n",
       "      <td>6</td>\n",
       "      <td>445</td>\n",
       "    </tr>\n",
       "    <tr>\n",
       "      <th>Credit reporting</th>\n",
       "      <td>4</td>\n",
       "      <td>10</td>\n",
       "      <td>19</td>\n",
       "      <td>662</td>\n",
       "      <td>103</td>\n",
       "      <td>0</td>\n",
       "      <td>13</td>\n",
       "      <td>0</td>\n",
       "      <td>1</td>\n",
       "      <td>0</td>\n",
       "      <td>5</td>\n",
       "      <td>817</td>\n",
       "    </tr>\n",
       "    <tr>\n",
       "      <th>Debt collection</th>\n",
       "      <td>10</td>\n",
       "      <td>17</td>\n",
       "      <td>28</td>\n",
       "      <td>78</td>\n",
       "      <td>1025</td>\n",
       "      <td>0</td>\n",
       "      <td>28</td>\n",
       "      <td>0</td>\n",
       "      <td>6</td>\n",
       "      <td>0</td>\n",
       "      <td>12</td>\n",
       "      <td>1204</td>\n",
       "    </tr>\n",
       "    <tr>\n",
       "      <th>Money transfers</th>\n",
       "      <td>12</td>\n",
       "      <td>3</td>\n",
       "      <td>5</td>\n",
       "      <td>2</td>\n",
       "      <td>5</td>\n",
       "      <td>11</td>\n",
       "      <td>1</td>\n",
       "      <td>0</td>\n",
       "      <td>0</td>\n",
       "      <td>0</td>\n",
       "      <td>0</td>\n",
       "      <td>39</td>\n",
       "    </tr>\n",
       "    <tr>\n",
       "      <th>Mortgage</th>\n",
       "      <td>9</td>\n",
       "      <td>9</td>\n",
       "      <td>17</td>\n",
       "      <td>28</td>\n",
       "      <td>42</td>\n",
       "      <td>0</td>\n",
       "      <td>858</td>\n",
       "      <td>0</td>\n",
       "      <td>1</td>\n",
       "      <td>0</td>\n",
       "      <td>1</td>\n",
       "      <td>965</td>\n",
       "    </tr>\n",
       "    <tr>\n",
       "      <th>Other financial service</th>\n",
       "      <td>3</td>\n",
       "      <td>0</td>\n",
       "      <td>0</td>\n",
       "      <td>0</td>\n",
       "      <td>3</td>\n",
       "      <td>0</td>\n",
       "      <td>0</td>\n",
       "      <td>1</td>\n",
       "      <td>0</td>\n",
       "      <td>0</td>\n",
       "      <td>1</td>\n",
       "      <td>8</td>\n",
       "    </tr>\n",
       "    <tr>\n",
       "      <th>Payday loan</th>\n",
       "      <td>1</td>\n",
       "      <td>4</td>\n",
       "      <td>1</td>\n",
       "      <td>5</td>\n",
       "      <td>20</td>\n",
       "      <td>1</td>\n",
       "      <td>5</td>\n",
       "      <td>0</td>\n",
       "      <td>9</td>\n",
       "      <td>1</td>\n",
       "      <td>1</td>\n",
       "      <td>48</td>\n",
       "    </tr>\n",
       "    <tr>\n",
       "      <th>Prepaid card</th>\n",
       "      <td>10</td>\n",
       "      <td>0</td>\n",
       "      <td>12</td>\n",
       "      <td>1</td>\n",
       "      <td>1</td>\n",
       "      <td>1</td>\n",
       "      <td>0</td>\n",
       "      <td>0</td>\n",
       "      <td>0</td>\n",
       "      <td>6</td>\n",
       "      <td>0</td>\n",
       "      <td>31</td>\n",
       "    </tr>\n",
       "    <tr>\n",
       "      <th>Student loan</th>\n",
       "      <td>5</td>\n",
       "      <td>8</td>\n",
       "      <td>4</td>\n",
       "      <td>11</td>\n",
       "      <td>21</td>\n",
       "      <td>0</td>\n",
       "      <td>11</td>\n",
       "      <td>0</td>\n",
       "      <td>6</td>\n",
       "      <td>0</td>\n",
       "      <td>74</td>\n",
       "      <td>140</td>\n",
       "    </tr>\n",
       "    <tr>\n",
       "      <th>All</th>\n",
       "      <td>310</td>\n",
       "      <td>164</td>\n",
       "      <td>455</td>\n",
       "      <td>833</td>\n",
       "      <td>1336</td>\n",
       "      <td>23</td>\n",
       "      <td>961</td>\n",
       "      <td>1</td>\n",
       "      <td>36</td>\n",
       "      <td>13</td>\n",
       "      <td>110</td>\n",
       "      <td>4242</td>\n",
       "    </tr>\n",
       "  </tbody>\n",
       "</table>\n",
       "</div>"
      ],
      "text/plain": [
       "Predicted                Bank account or service  Consumer loan  Credit card  \\\n",
       "True                                                                           \n",
       "Bank account or service                      223              5           43   \n",
       "Consumer loan                                  7             97           12   \n",
       "Credit card                                   26             11          314   \n",
       "Credit reporting                               4             10           19   \n",
       "Debt collection                               10             17           28   \n",
       "Money transfers                               12              3            5   \n",
       "Mortgage                                       9              9           17   \n",
       "Other financial service                        3              0            0   \n",
       "Payday loan                                    1              4            1   \n",
       "Prepaid card                                  10              0           12   \n",
       "Student loan                                   5              8            4   \n",
       "All                                          310            164          455   \n",
       "\n",
       "Predicted                Credit reporting  Debt collection  Money transfers  \\\n",
       "True                                                                          \n",
       "Bank account or service                12               20                7   \n",
       "Consumer loan                          15               44                1   \n",
       "Credit card                            19               52                2   \n",
       "Credit reporting                      662              103                0   \n",
       "Debt collection                        78             1025                0   \n",
       "Money transfers                         2                5               11   \n",
       "Mortgage                               28               42                0   \n",
       "Other financial service                 0                3                0   \n",
       "Payday loan                             5               20                1   \n",
       "Prepaid card                            1                1                1   \n",
       "Student loan                           11               21                0   \n",
       "All                                   833             1336               23   \n",
       "\n",
       "Predicted                Mortgage  Other financial service  Payday loan  \\\n",
       "True                                                                      \n",
       "Bank account or service        15                        0            4   \n",
       "Consumer loan                  17                        0            9   \n",
       "Credit card                    13                        0            0   \n",
       "Credit reporting               13                        0            1   \n",
       "Debt collection                28                        0            6   \n",
       "Money transfers                 1                        0            0   \n",
       "Mortgage                      858                        0            1   \n",
       "Other financial service         0                        1            0   \n",
       "Payday loan                     5                        0            9   \n",
       "Prepaid card                    0                        0            0   \n",
       "Student loan                   11                        0            6   \n",
       "All                           961                        1           36   \n",
       "\n",
       "Predicted                Prepaid card  Student loan   All  \n",
       "True                                                       \n",
       "Bank account or service             3             2   334  \n",
       "Consumer loan                       1             8   211  \n",
       "Credit card                         2             6   445  \n",
       "Credit reporting                    0             5   817  \n",
       "Debt collection                     0            12  1204  \n",
       "Money transfers                     0             0    39  \n",
       "Mortgage                            0             1   965  \n",
       "Other financial service             0             1     8  \n",
       "Payday loan                         1             1    48  \n",
       "Prepaid card                        6             0    31  \n",
       "Student loan                        0            74   140  \n",
       "All                                13           110  4242  "
      ]
     },
     "execution_count": 102,
     "metadata": {},
     "output_type": "execute_result"
    }
   ],
   "source": [
    "pd.crosstab(df_dev.Product, logreg_predictions, \n",
    "            rownames=['True'], colnames=['Predicted'], \n",
    "            margins=True)"
   ]
  },
  {
   "cell_type": "markdown",
   "metadata": {},
   "source": [
    "We created a function to help you visualize the confusion matrix data below."
   ]
  },
  {
   "cell_type": "code",
   "execution_count": 103,
   "metadata": {
    "collapsed": false
   },
   "outputs": [],
   "source": [
    "def plot_confusion_matrix(cm, title, target_names, cmap=plt.cm.coolwarm):\n",
    "    plt.figure(figsize=(8,8))\n",
    "    plt.imshow(cm, interpolation='nearest', cmap=cmap)\n",
    "    plt.title(title)\n",
    "    plt.colorbar()\n",
    "    tick_marks = np.arange(len(target_names))\n",
    "    plt.xticks(tick_marks, target_names, rotation=45)\n",
    "    plt.yticks(tick_marks, target_names)\n",
    "    plt.tight_layout()\n",
    "    plt.ylabel('True label')\n",
    "    plt.xlabel('Predicted label')"
   ]
  },
  {
   "cell_type": "markdown",
   "metadata": {},
   "source": [
    "### Plot Confusion Matrix\n",
    "\n",
    "Confusion Matrix names are sorted by the `confusion_matrix` function in Scikit-Learn"
   ]
  },
  {
   "cell_type": "code",
   "execution_count": 104,
   "metadata": {
    "collapsed": false
   },
   "outputs": [
    {
     "data": {
      "image/png": "[encoded data removed]",
      "text/plain": [
       "<matplotlib.figure.Figure at 0x11112e9b0>"
      ]
     },
     "metadata": {},
     "output_type": "display_data"
    }
   ],
   "source": [
    "from sklearn.metrics import confusion_matrix\n",
    "\n",
    "nb_cm = confusion_matrix(df_dev.Product, nb_predictions)\n",
    "plot_confusion_matrix(nb_cm, \"Naive Bayes Confusion Matrix\", class_labels)"
   ]
  },
  {
   "cell_type": "code",
   "execution_count": 105,
   "metadata": {
    "collapsed": false
   },
   "outputs": [
    {
     "data": {
      "image/png": "[encoded data removed]",
      "text/plain": [
       "<matplotlib.figure.Figure at 0x105683828>"
      ]
     },
     "metadata": {},
     "output_type": "display_data"
    }
   ],
   "source": [
    "logreg_cm = confusion_matrix(df_dev.Product, logreg_predictions)\n",
    "plot_confusion_matrix(logreg_cm, \"Logistic Regression Confusion Matrix\", class_labels)"
   ]
  },
  {
   "cell_type": "markdown",
   "metadata": {},
   "source": [
    "### Classification report"
   ]
  },
  {
   "cell_type": "code",
   "execution_count": 106,
   "metadata": {
    "collapsed": false
   },
   "outputs": [
    {
     "name": "stdout",
     "output_type": "stream",
     "text": [
      "                         precision    recall  f1-score   support\n",
      "\n",
      "Bank account or service       0.75      0.71      0.73       334\n",
      "          Consumer loan       0.53      0.50      0.51       211\n",
      "            Credit card       0.74      0.71      0.72       445\n",
      "       Credit reporting       0.72      0.86      0.78       817\n",
      "        Debt collection       0.85      0.70      0.77      1204\n",
      "        Money transfers       0.35      0.62      0.45        39\n",
      "               Mortgage       0.89      0.85      0.87       965\n",
      "Other financial service       0.25      0.12      0.17         8\n",
      "            Payday loan       0.21      0.38      0.27        48\n",
      "           Prepaid card       0.34      0.68      0.45        31\n",
      "           Student loan       0.48      0.66      0.56       140\n",
      "\n",
      "            avg / total       0.77      0.75      0.75      4242\n",
      "\n"
     ]
    }
   ],
   "source": [
    "print(classification_report(df_dev.Product, nb_predictions, target_names=class_labels))"
   ]
  },
  {
   "cell_type": "code",
   "execution_count": 107,
   "metadata": {
    "collapsed": false
   },
   "outputs": [
    {
     "name": "stdout",
     "output_type": "stream",
     "text": [
      "                         precision    recall  f1-score   support\n",
      "\n",
      "Bank account or service       0.72      0.67      0.69       334\n",
      "          Consumer loan       0.59      0.46      0.52       211\n",
      "            Credit card       0.69      0.71      0.70       445\n",
      "       Credit reporting       0.79      0.81      0.80       817\n",
      "        Debt collection       0.77      0.85      0.81      1204\n",
      "        Money transfers       0.48      0.28      0.35        39\n",
      "               Mortgage       0.89      0.89      0.89       965\n",
      "Other financial service       1.00      0.12      0.22         8\n",
      "            Payday loan       0.25      0.19      0.21        48\n",
      "           Prepaid card       0.46      0.19      0.27        31\n",
      "           Student loan       0.67      0.53      0.59       140\n",
      "\n",
      "            avg / total       0.77      0.77      0.77      4242\n",
      "\n"
     ]
    }
   ],
   "source": [
    "print(classification_report(df_dev.Product, logreg_predictions, target_names=class_labels))"
   ]
  },
  {
   "cell_type": "code",
   "execution_count": null,
   "metadata": {
    "collapsed": true
   },
   "outputs": [],
   "source": []
  },
  {
   "cell_type": "code",
   "execution_count": null,
   "metadata": {
    "collapsed": true
   },
   "outputs": [],
   "source": []
  },
  {
   "cell_type": "code",
   "execution_count": null,
   "metadata": {
    "collapsed": true
   },
   "outputs": [],
   "source": []
  }
 ],
 "metadata": {
  "kernelspec": {
   "display_name": "Python 3",
   "language": "python",
   "name": "python3"
  },
  "language_info": {
   "codemirror_mode": {
    "name": "ipython",
    "version": 3
   },
   "file_extension": ".py",
   "mimetype": "text/x-python",
   "name": "python",
   "nbconvert_exporter": "python",
   "pygments_lexer": "ipython3",
   "version": "3.4.3"
  }
 },
 "nbformat": 4,
 "nbformat_minor": 0
}
